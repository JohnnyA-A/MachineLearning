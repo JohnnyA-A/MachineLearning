{
  "nbformat": 4,
  "nbformat_minor": 0,
  "metadata": {
    "colab": {
      "provenance": [],
      "collapsed_sections": [
        "nZGeY8ZKw25A",
        "vzhIpp2Xxvha",
        "x7l-JM6fLQlJ",
        "y8nLHQbbQ_yY",
        "E6JF1veyRCd2",
        "uINrNUqaR3aW",
        "PHBC7tcaSX0l",
        "qGSpVn9oSwVe",
        "1Lw094STS0Rv",
        "pYO5r7h8S31r",
        "5z37as0Nhqqf",
        "blDIQmJRS4xC",
        "dBgeq-d1S5rk",
        "SsvKqZTOS6r4",
        "acwEodjwS7xr",
        "qpvkUinEpTBh",
        "uRpgC_VRS8pW",
        "qqZfwImX-g7n"
      ],
      "authorship_tag": "ABX9TyP8Ji4NIosP1AzexW9w8Ua8",
      "include_colab_link": true
    },
    "kernelspec": {
      "name": "python3",
      "display_name": "Python 3"
    },
    "language_info": {
      "name": "python"
    }
  },
  "cells": [
    {
      "cell_type": "markdown",
      "metadata": {
        "id": "view-in-github",
        "colab_type": "text"
      },
      "source": [
        "<a href=\"https://colab.research.google.com/github/JohnnyA-A/MachineLearning/blob/main/%D0%9C%D0%B0%D1%88%D0%B8%D0%BD%D0%BD%D0%BE%D0%B5_%D0%BE%D0%B1%D1%83%D1%87%D0%B5%D0%BD%D0%B8%D0%B5.ipynb\" target=\"_parent\"><img src=\"https://colab.research.google.com/assets/colab-badge.svg\" alt=\"Open In Colab\"/></a>"
      ]
    },
    {
      "cell_type": "markdown",
      "source": [
        "**Важно!!!** Обращать внимание на комментарии в коде, там помечено, какие данные нужно поменять на свои"
      ],
      "metadata": {
        "id": "zcSszEx1d9x5"
      }
    },
    {
      "cell_type": "markdown",
      "source": [
        "# Упражнение 1"
      ],
      "metadata": {
        "id": "nZGeY8ZKw25A"
      }
    },
    {
      "cell_type": "markdown",
      "source": [
        "Заходим https://online.ifmo.ru/pls/apex/   \n",
        "Workspace: online_ru  \n",
        "Username: itmo  \n",
        "Password: online  \n",
        "\n",
        "Далее SQL Workshop -> SQL Commands   \n",
        "Вставляем следующую строку, **МЕНЯЯ** регионы на свои из условия   \n",
        "<br>SELECT * FROM ROSSTAT_SALARY_RU WHERE REGION_NAME != 'Самарская область' AND REGION_NAME != 'Нижегородская область' AND REGION_NAME != 'Кемеровская область' AND REGION_NAME != 'Приморский край' AND REGION_NAME != 'Ненецкий АО'    \n",
        "<br>Загружаем файл в коллаб, и не забываем менять **ИМЯ ФАЙЛА**"
      ],
      "metadata": {
        "id": "CKlVQLf2yVyE"
      }
    },
    {
      "cell_type": "code",
      "execution_count": null,
      "metadata": {
        "colab": {
          "base_uri": "https://localhost:8080/"
        },
        "id": "HC2Nx06iwzE3",
        "outputId": "66a88cc4-dcda-4a69-efac-bb9709a22d23"
      },
      "outputs": [
        {
          "output_type": "stream",
          "name": "stdout",
          "text": [
            "X24 28400\n",
            "X38 31647\n",
            "X62 42434\n",
            "Выборочное среднее 38468.55\n",
            "Выборочная медиана 32089.5\n"
          ]
        }
      ],
      "source": [
        "import pandas as pd\n",
        "#вводим имя своего файла\n",
        "df = pd.read_csv(\"report1.csv\", encoding_errors='ignore').sort_values(by=['SALARY'], ascending=True)\n",
        "df.index = range(1, len(df.index) + 1)\n",
        "\n",
        "#вместо x1 x2 x3 вводим индексы из своего условия\n",
        "x1 = 24    \n",
        "x2 = 38\n",
        "x3 = 62\n",
        "print(\"X\" + str(x1), df.loc[x1][\"SALARY\"])\n",
        "print(\"X\" + str(x2), df.loc[x2][\"SALARY\"])\n",
        "print(\"X\" + str(x3), df.loc[x3][\"SALARY\"])\n",
        "print(\"Выборочное среднее\", round(df.SALARY.mean(), 2))\n",
        "print(\"Выборочная медиана\", round(df.SALARY.median(), 2))"
      ]
    },
    {
      "cell_type": "markdown",
      "source": [
        "#Упражнение 2"
      ],
      "metadata": {
        "id": "vzhIpp2Xxvha"
      }
    },
    {
      "cell_type": "markdown",
      "source": [
        "##Задание 2.1"
      ],
      "metadata": {
        "id": "x7l-JM6fLQlJ"
      }
    },
    {
      "cell_type": "code",
      "source": [
        "import numpy as np\n",
        "from sklearn.decomposition import PCA\n",
        "import matplotlib.pyplot as plt\n",
        "import pandas as pd\n",
        "\n",
        "#сюда название своего файла или ссылку\n",
        "file_name = \"https://courses.openedu.ru/assets/courseware/v1/537f50b9da15bbb433272426febf974a/asset-v1:ITMOUniversity+MLDATAN+spring_2022_ITMO_bac+type@asset+block/34_25.csv\"\n",
        "X = pd.read_csv(file_name, header = None)\n",
        "pca = PCA(n_components=2, svd_solver='full')\n",
        "\n",
        "X_transformed = pca.fit(X).transform(X)\n",
        "print(\"Координата первого объекта - \", round(X_transformed[0][0], 3))\n",
        "print(\"Координата второго объекта - \", round(X_transformed[0][1], 3))\n",
        "\n",
        "explained_variance = np.round(np.cumsum(pca.explained_variance_ratio_), 3)\n",
        "print(\"Доля объясненной дисперсии при использовании первых двух главных компонент - \", explained_variance[1])\n",
        "del(pca)\n",
        "del(explained_variance)\n",
        "\n",
        "\n",
        "min_value_ev = 0.85    # сюда вставить своё значение\n",
        "pca = PCA(n_components=10, svd_solver='auto')\n",
        "X_full = pca.fit(X).transform(X)\n",
        "explained_variance = np.round(np.cumsum(pca.explained_variance_ratio_),3)\n",
        "for i in range(len(explained_variance)):\n",
        "\tif (explained_variance[i] >= min_value_ev):\n",
        "\t\tprint(\"Минимальное количество главных компонент необходимо использовать, чтобы доля объясненной дисперсии превышала\", min_value_ev, \" - \" , i + 1)\n",
        "\t\tbreak\n",
        "\telif (i == len(explained_variance) - 1):\n",
        "\t\tprint(\"Ну тут хз, сам смотри по массиву (нумерация с 1)\")\n",
        "\t\tprint(explained_variance)\n",
        "del(X_full)\n",
        "del(pca)\n",
        "del(explained_variance)\n",
        "\n",
        "print(\"\\nПоследний пункт смотрим по графику\\n\")\n",
        "plt.title(\"Ответ - количество групп\")\n",
        "plt.plot(X_transformed[:101, 0], X_transformed[:101, 1], 'o', markerfacecolor='red', markeredgecolor='k', markersize=8)\n",
        "plt.show()\n"
      ],
      "metadata": {
        "colab": {
          "base_uri": "https://localhost:8080/",
          "height": 429
        },
        "id": "M9YEtmfox17u",
        "outputId": "7f9ccfc3-c80b-4f15-82c4-24ece6666203"
      },
      "execution_count": null,
      "outputs": [
        {
          "output_type": "stream",
          "name": "stdout",
          "text": [
            "Координата первого объекта -  -34.784\n",
            "Координата второго объекта -  -22.595\n",
            "Доля объясненной дисперсии при использовании первых двух главных компонент -  0.71\n",
            "Минимальное количество главных компонент необходимо использовать, чтобы доля объясненной дисперсии превышала 0.85  -  3\n",
            "\n",
            "Последний пункт смотрим по графику\n",
            "\n"
          ]
        },
        {
          "output_type": "display_data",
          "data": {
            "text/plain": [
              "<Figure size 432x288 with 1 Axes>"
            ],
            "image/png": "[encoded data removed]"
          },
          "metadata": {
            "needs_background": "light"
          }
        }
      ]
    },
    {
      "cell_type": "markdown",
      "source": [],
      "metadata": {
        "id": "Qp-4vFgYQ-4g"
      }
    },
    {
      "cell_type": "markdown",
      "source": [
        "##Задание 2.2"
      ],
      "metadata": {
        "id": "y8nLHQbbQ_yY"
      }
    },
    {
      "cell_type": "code",
      "source": [
        "import numpy as np\n",
        "import matplotlib.pyplot as plt\n",
        "\n",
        "#сюда название своего файла или ссылку\n",
        "X_reduced_filename = \"https://courses.openedu.ru/assets/courseware/v1/ee3345b3500b7571a589d3caa49ec743/asset-v1:ITMOUniversity+MLDATAN+spring_2022_ITMO_bac+type@asset+block/X_reduced_417.csv\"\n",
        "#сюда название своего файла или ссылку\n",
        "X_loadings_filename = \"https://courses.openedu.ru/assets/courseware/v1/ad22c96aa75c298f81ec21de6f334865/asset-v1:ITMOUniversity+MLDATAN+spring_2022_ITMO_bac+type@asset+block/X_loadings_417.csv\"\n",
        "scores = np.genfromtxt(X_reduced_filename, delimiter=';')\n",
        "loadings = np.genfromtxt(X_loadings_filename, delimiter=';')\n",
        "values = np.dot(scores,loadings.T)\n",
        "plt.imshow(values, cmap='Greys_r')\n",
        "plt.title(\"Ответ - номер такой картинки\")\n",
        "plt.show()"
      ],
      "metadata": {
        "colab": {
          "base_uri": "https://localhost:8080/",
          "height": 281
        },
        "id": "aKBDVrKYRGFg",
        "outputId": "29a5bcdb-bdbe-4077-f45e-ae5af62a254f"
      },
      "execution_count": null,
      "outputs": [
        {
          "output_type": "display_data",
          "data": {
            "text/plain": [
              "<Figure size 432x288 with 1 Axes>"
            ],
            "image/png": "[encoded data removed]"
          },
          "metadata": {
            "needs_background": "light"
          }
        }
      ]
    },
    {
      "cell_type": "markdown",
      "source": [
        "#Упражнение 3"
      ],
      "metadata": {
        "id": "E6JF1veyRCd2"
      }
    },
    {
      "cell_type": "markdown",
      "source": [
        "##Задача 3.1"
      ],
      "metadata": {
        "id": "uINrNUqaR3aW"
      }
    },
    {
      "cell_type": "code",
      "source": [
        "import pandas as pd\n",
        "from sklearn.linear_model import LinearRegression\n",
        "\n",
        "f = open(\"report31.csv\", \"w\")\n",
        "f.write(\n",
        "\"\"\"id,X,Y\n",
        "1,6,12\n",
        "2,25,52\n",
        "3,4,16\n",
        "4,18,35\n",
        "5,3,6\n",
        "6,7,16\n",
        "7,17,32\n",
        "8,12,21\n",
        "9,13,22\n",
        "10,5,8\"\"\")  ## сюда вставить свои значения между тремя кавыччками\n",
        "f.close()\n",
        "\n",
        "df = pd.read_csv(\"report31.csv\", index_col='id')\n",
        "print(\"Выборочное среднее X - \", df.X.mean())\n",
        "print(\"Выборочное среднее Y - \", df.Y.mean())\n",
        "\n",
        "\n",
        "X = pd.DataFrame(df.drop(['Y'], axis=1))\n",
        "Y = pd.DataFrame(df.Y)\n",
        "reg = LinearRegression().fit(X,Y)\n",
        "print(\"Коэффициент  θ_1  - \", round(reg.coef_[0][0], 2))\n",
        "print(\"Коэффициент  θ_0  - \", round(reg.intercept_[0], 2))\n",
        "print(\"R^2 статистика - \", round(reg.score(X,Y), 2))\n"
      ],
      "metadata": {
        "colab": {
          "base_uri": "https://localhost:8080/"
        },
        "id": "1DSsFnGHR0q9",
        "outputId": "1704ab89-4835-4759-e929-d6920536c4a7"
      },
      "execution_count": null,
      "outputs": [
        {
          "output_type": "stream",
          "name": "stdout",
          "text": [
            "Выборочное среднее X -  11.0\n",
            "Выборочное среднее Y -  22.0\n",
            "Коэффициент  θ_1  -  1.89\n",
            "Коэффициент  θ_0  -  1.25\n",
            "R^2 статистика -  0.94\n"
          ]
        }
      ]
    },
    {
      "cell_type": "markdown",
      "source": [
        "##Задача 3.2"
      ],
      "metadata": {
        "id": "PHBC7tcaSX0l"
      }
    },
    {
      "cell_type": "code",
      "source": [
        "import pandas as pd\n",
        "from sklearn.linear_model import LinearRegression\n",
        "#сюда название своего файла или ссылку\n",
        "file_name = \"https://courses.openedu.ru/assets/courseware/v1/a11f0b9cb0074fdacc112eee71eb0b67/asset-v1:ITMOUniversity+MLDATAN+spring_2022_ITMO_bac+type@asset+block/candy-data.csv\"\n",
        "df = pd.read_csv(file_name, index_col='competitorname')\n",
        "\n",
        "unnecessary_sweets = ['Hersheys Milk Chocolate', 'Payday']  #сюда вставить названия из задания\n",
        "train_data = df.drop(unnecessary_sweets)\n",
        "\n",
        "X = pd.DataFrame(train_data.drop(['winpercent', 'Y'], axis=1))\n",
        "Y = pd.DataFrame(train_data['winpercent'])\n",
        "reg = LinearRegression().fit(X.values, Y.values)\n",
        "\n",
        "\n",
        "\n",
        "candy1_name = 'Hersheys Milk Chocolate'  # сюда вставить название из условия\n",
        "candy1 = df.loc[candy1_name,:].to_frame().T   \n",
        "print(\"Предсказанное значение для \", candy1_name, \" - \", round(reg.predict(candy1.drop(['winpercent', 'Y'], axis=1).values)[0][0], 3))\n",
        "\n",
        "candy2_name = 'Payday' \t\t# сюда вставить название из условия\n",
        "candy2 = df.loc[candy2_name,:].to_frame().T \n",
        "print(\"Предсказанное значение для \", candy1_name, \" - \", round(reg.predict(candy2.drop(['winpercent', 'Y'], axis=1).values)[0][0], 3))\n",
        "\n",
        "\n",
        "candy3_pars = [1,1, 1, 0, 0, 0, 0, 0, 1, 0.801, 0.745]   #сюда вставить значения из условия\n",
        "print(\"Предсказанное значение для конфеты с заданными параметрами - \", round(reg.predict([candy3_pars])[0][0], 3))"
      ],
      "metadata": {
        "colab": {
          "base_uri": "https://localhost:8080/"
        },
        "id": "_3QTo07DSbVd",
        "outputId": "5d64a736-32f3-49d3-83c8-99f8beded545"
      },
      "execution_count": null,
      "outputs": [
        {
          "output_type": "stream",
          "name": "stdout",
          "text": [
            "Предсказанное значение для  Hersheys Milk Chocolate  -  52.619\n",
            "Предсказанное значение для  Hersheys Milk Chocolate  -  37.63\n",
            "Предсказанное значение для конфеты с заданными параметрами -  71.077\n"
          ]
        }
      ]
    },
    {
      "cell_type": "markdown",
      "source": [
        "#Упражнение 4"
      ],
      "metadata": {
        "id": "qGSpVn9oSwVe"
      }
    },
    {
      "cell_type": "code",
      "source": [
        "import pandas as pd\n",
        "from sklearn.neighbors import KNeighborsClassifier\n",
        "\n",
        "f = open(\"report4.csv\", \"w\")\n",
        "f.write(\n",
        "\"\"\"id,X,Y,Class\n",
        "1,61,48,1\n",
        "2,62,28,1\n",
        "3,83,84,0\n",
        "4,68,24,1\n",
        "5,56,39,1\n",
        "6,32,95,1\n",
        "7,99,14,1\n",
        "8,87,64,0\n",
        "9,44,35,0\n",
        "10,70,51,0\"\"\")  ## сюда вставить свои значения между тремя кавыччками\n",
        "f.close()\n",
        "\n",
        "train_data = pd.read_csv(\"report4.csv\", index_col = \"id\")\n",
        "X = pd.DataFrame(train_data.drop(['Class'], axis=1))\n",
        "Y = pd.DataFrame(train_data['Class']).values.ravel()\n",
        "\n",
        "Euclid = KNeighborsClassifier(n_neighbors=3, p=2)\n",
        "Euclid.fit(X.values, Y)\n",
        "\n",
        "Object = [94, 37]  #сюда координаты из условия\n",
        "\n",
        "\n",
        "print(round(Euclid.kneighbors([Object])[0][0][0], 3))\n",
        "\n",
        "\n",
        "sec_ans = ''\n",
        "for i in Euclid.kneighbors([Object])[1][0]:\n",
        "\tsec_ans += str(i + 1) +  ','\n",
        "print(sec_ans[:-1])\n",
        "\n",
        "print(Euclid.predict([Object])[0])\n",
        "\n",
        "\n",
        "Manhattan = KNeighborsClassifier(n_neighbors=3, p=1)\n",
        "Manhattan.fit(X.values, Y)\n",
        "print(round(Manhattan.kneighbors([Object])[0][0][0], 3))\n",
        "\n",
        "fif_ans = ''\n",
        "for i in Manhattan.kneighbors([Object])[1][0]:\n",
        "\tfif_ans += str(i + 1) +  ','\n",
        "print(fif_ans[:-1])\n",
        "\n",
        "print(Manhattan.predict([Object])[0])\n"
      ],
      "metadata": {
        "colab": {
          "base_uri": "https://localhost:8080/"
        },
        "id": "T5UZrYD3T4gl",
        "outputId": "476cf7da-9c0b-42d7-a9ed-43f84a4ec10c"
      },
      "execution_count": null,
      "outputs": [
        {
          "output_type": "stream",
          "name": "stdout",
          "text": [
            "23.537\n",
            "7,10,8\n",
            "0\n",
            "28.0\n",
            "7,8,10\n",
            "0\n"
          ]
        }
      ]
    },
    {
      "cell_type": "markdown",
      "source": [
        "#Упражнение 5"
      ],
      "metadata": {
        "id": "1Lw094STS0Rv"
      }
    },
    {
      "cell_type": "code",
      "source": [
        "from math import log, exp\n",
        "#сюда значения из первой таблицы в том же поряде\n",
        "emails = [14, 12]\n",
        "words =  [70, 46]\n",
        "\n",
        "#сюда, соответственно, значения из второй таблицы\n",
        "#не забыть поменять названия строк тоже!!!\n",
        "dict = {\n",
        "\"Bill\" : [1, 1],\n",
        "\"Million\" : [2, 1],\n",
        "\"Gift\" : [1, 4],\n",
        "\"Money\" : [0, 1],\n",
        "\"Access\" : [5, 4],\n",
        "\"Free\" : [8, 12],\n",
        "\"Purchase\" : [14, 22],\n",
        "\"Cash\" : [31, 1],\n",
        "\"Coupon\" : [7, 0],\n",
        "\"Online\" : [1, 0],\n",
        "}\n",
        "\n",
        "#сюда строку из условия\n",
        "letter = \"Gift Purchase Offer Access Money Million Investment\".split()\n",
        "f = [0, 0]\n",
        "for k in range(2):\n",
        "  words_num = 10\n",
        "  for i in letter:\n",
        "    if i not in dict:\n",
        "      words_num += 1\n",
        "\n",
        "  com_words = words[k] + words_num\n",
        "  f[k] = log(emails[k] / (emails[0] + emails[1]))\n",
        "  for i in range(7):\n",
        "    if letter[i] in dict:\n",
        "      f[k] += log( (dict.get(letter[i])[k] + 1) / com_words)\n",
        "    else:\n",
        "      f[k] += log(1 / com_words)\n",
        "\n",
        "#тут выбрать своё, а другое закомментить\n",
        "p = 1 / (1 + exp(f[1] - f[0]))   #если Класс=\"спам\"\n",
        "#p = 1 / (1 + exp(f[0] - f[1]))  #если Класс=\"не спам\"\n",
        "\n",
        "print(\"Вероятность того, что письмо является спамом: \", round(emails[0] / (emails[0] + emails[1]) , 3))\n",
        "print('F(\"спам\"): ', round(f[0], 3))\n",
        "print('F(\"не спам\"): ', round(f[1], 3))\n",
        "print(\"Вероятность P: \", round(p, 3))"
      ],
      "metadata": {
        "colab": {
          "base_uri": "https://localhost:8080/"
        },
        "id": "poegR1C_UiPr",
        "outputId": "4f784205-91fd-41ab-bf33-0ed62dcc80fc"
      },
      "execution_count": null,
      "outputs": [
        {
          "output_type": "stream",
          "name": "stdout",
          "text": [
            "Вероятность того, что письмо является спамом:  0.538\n",
            "F(\"спам\"):  -25.175\n",
            "F(\"не спам\"):  -21.456\n",
            "Вероятность P:  0.024\n"
          ]
        }
      ]
    },
    {
      "cell_type": "markdown",
      "source": [
        "#Упражнение 6"
      ],
      "metadata": {
        "id": "pYO5r7h8S31r"
      }
    },
    {
      "cell_type": "code",
      "source": [
        "import pandas as pd\n",
        "from sklearn.linear_model import LogisticRegression\n",
        "from sklearn import metrics\n",
        "\n",
        "#сюда название своего файла или ссылку\n",
        "dataset_filename = \"https://courses.openedu.ru/assets/courseware/v1/a11f0b9cb0074fdacc112eee71eb0b67/asset-v1:ITMOUniversity+MLDATAN+spring_2022_ITMO_bac+type@asset+block/candy-data.csv\"\n",
        "#сюда название своего файла или ссылку\n",
        "test_filename = \"https://courses.openedu.ru/assets/courseware/v1/d53b0f8b959d03cc84a992f6070cabc6/asset-v1:ITMOUniversity+MLDATAN+spring_2022_ITMO_bac+type@asset+block/candy-test.csv\" \n",
        "df = pd.read_csv(dataset_filename, index_col='competitorname')\n",
        "  \n",
        "#сюда названия исключаемых стобцов из условия \n",
        "unnecessary_sweets = [\"Chewey Lemonhead Fruit Mix\", \"Runts\", \"Sixlets\"]\n",
        "train_data = df.drop(unnecessary_sweets)\n",
        "\n",
        "\n",
        "X = pd.DataFrame(train_data.drop(['winpercent', 'Y'], axis=1))\n",
        "Y = pd.DataFrame(train_data['Y'])\n",
        "reg = LogisticRegression(random_state=2019, solver='lbfgs').fit(X, Y.values.ravel())\n",
        "\n",
        "test_data = pd.read_csv(test_filename, delimiter=',', index_col='competitorname')\n",
        "X_test = pd.DataFrame(test_data.drop(['Y'], axis=1))\n",
        "Y_pred = reg.predict(X_test)\n",
        "Y_pred_probs = reg.predict_proba(X_test)\n",
        "\n",
        "Probability = pd.DataFrame({ \n",
        "    '0': [round(x[0], 3) for x in Y_pred_probs],\n",
        "    '1': [round(x[1], 3) for x in Y_pred_probs]\n",
        "},\n",
        "index = test_data.index)\n",
        "\n",
        "\n",
        "print(\"Первый ответ - \", Probability.loc[\"Tootsie Roll Juniors\"][1])   #сюда название и номер класса из условия\n",
        "print(\"Второй ответ - \", Probability.loc[\"Tootsie Roll Midgies\"][1]) #сюда название и номер класса из условия\n",
        "\n",
        "\n",
        "\n",
        "Y_true = (test_data['Y'].to_frame().T).values.ravel()\n",
        "fpr, tpr, _ = metrics.roc_curve(Y_true, Y_pred)\n",
        "Y_pred_probs_class_1 = Y_pred_probs[:, 1]\n",
        "print(\"Третий ответ - \", round(metrics.recall_score(Y_true, Y_pred), 3))\n",
        "print(\"Четвертый ответ - \", round(metrics.precision_score(Y_true, Y_pred), 3))\n",
        "print(\"Пятый ответ - \", round(metrics.roc_auc_score(Y_true, Y_pred_probs_class_1), 3))"
      ],
      "metadata": {
        "colab": {
          "base_uri": "https://localhost:8080/"
        },
        "id": "-QsOBB70gmQc",
        "outputId": "c4d97a17-9654-4869-a657-8bfefc306d1d"
      },
      "execution_count": null,
      "outputs": [
        {
          "output_type": "stream",
          "name": "stdout",
          "text": [
            "Первый ответ -  0.717\n",
            "Второй ответ -  0.741\n",
            "Третий ответ -  0.6\n",
            "Четвертый ответ -  0.5\n",
            "Пятый ответ -  0.86\n"
          ]
        }
      ]
    },
    {
      "cell_type": "markdown",
      "source": [
        "#Рубежный зачет"
      ],
      "metadata": {
        "id": "5z37as0Nhqqf"
      }
    },
    {
      "cell_type": "markdown",
      "source": [
        "Рубежное тестирование в отдельном коллабе. На прокторе нужно написать такой же код, не забывая менять данные на свои    \n",
        "\n",
        "https://colab.research.google.com/drive/1SARZmTFi64gKf1JteCG6tz7LNn2Z3lWl?usp=sharing"
      ],
      "metadata": {
        "id": "8bvBfNSvhvIe"
      }
    },
    {
      "cell_type": "markdown",
      "source": [
        "#Упражнение 7"
      ],
      "metadata": {
        "id": "blDIQmJRS4xC"
      }
    },
    {
      "cell_type": "code",
      "source": [
        "#Этот код нужен, чтобы получить папки с фотографиями, сначала запустить его\n",
        "\n",
        "import requests\n",
        "#сюда вставить ссылки на архивы, первая - ссылка на гугл папку\n",
        "url_1 = \"https://drive.google.com/open?id=1HLJErnl0u_yiyrXykyq279DVuYMlQldW\"\n",
        "url_2 = \"https://courses.openedu.ru/assets/courseware/v1/c8f3e99cf88c0643abc7ab918beded9c/asset-v1:ITMOUniversity+MLDATAN+spring_2022_ITMO_bac+type@asset+block/test_task.zip\"\n",
        "\n",
        "url_1 = \"https://drive.google.com/u/0/uc?id=\" + url_1[url_1.find(\"id=\") + 3:] + \"&export=download\"\n",
        "f = open(\"train_task7.zip\", \"wb\")\n",
        "f.write(requests.get(url_1).content)\n",
        "f.close()\n",
        "\n",
        "f = open(\"test_task7.zip\", \"wb\")\n",
        "f.write(requests.get(url_2).content)\n",
        "f.close()\n",
        "from os import system\n",
        "ret = system(\"unzip train_task7.zip -d train_task7\")\n",
        "ret = system(\"unzip test_task7.zip -d test_task7\")\n",
        "ret = system(\"rm test_task7.zip\")\n",
        "ret = system(\"rm train_task7.zip\")"
      ],
      "metadata": {
        "id": "MGFsD8dhlfJW"
      },
      "execution_count": null,
      "outputs": []
    },
    {
      "cell_type": "code",
      "source": [
        "from sklearn.model_selection import train_test_split\n",
        "from sklearn.metrics import classification_report\n",
        "from sklearn.preprocessing import LabelEncoder\n",
        "from sklearn.metrics import f1_score\n",
        "from sklearn.svm import LinearSVC\n",
        "from imutils import paths\n",
        "import numpy as np\n",
        "import cv2 \n",
        "import os\n",
        "\n",
        "def extract_histogram(image, bins=(8, 8, 8)):\n",
        "    hist = cv2.calcHist([image], [0, 1, 2], None, bins, [0, 256, 0, 256, 0, 256])\n",
        "    cv2.normalize(hist, hist)\n",
        "    return hist.flatten()\n",
        "\n",
        "imagePaths = sorted(list(paths.list_images('train_task7/train')))\n",
        "X = []\n",
        "y = []\n",
        "\n",
        "for imagePath in imagePaths:\n",
        "\timage = cv2.imread(imagePath, 1)\n",
        "\tlabel = imagePath.split(os.path.sep)[-1].split(\".\")[0]\n",
        "\thist = extract_histogram(image)\n",
        "\tX.append(hist)\n",
        "\ty.append(label)\n",
        "\n",
        "le = LabelEncoder()\n",
        "y = le.fit_transform(y)\n",
        "#Здесь могут быть другие test_size и random_state\n",
        "X_train, X_test, y_train, y_test = train_test_split( X, y, test_size=0.25, random_state=7)\n",
        "\n",
        "#Здесь могут быть другие random_state и C\n",
        "model = LinearSVC(random_state = 7, C = 0.58).fit(X_train, y_train)\n",
        "\n",
        "#Во вторую скобку записать свой индекс\n",
        "print(round(model.coef_[0][308], 2))\n",
        "print(round(model.coef_[0][13], 2))\n",
        "print(round(model.coef_[0][414], 2))\n",
        "\n",
        "\n",
        "predictions = model.predict(X_test)\n",
        "print(round(f1_score(y_test, predictions, average=\"macro\"),2))\n",
        "\n",
        "#В массив вставить названия файлов, для которых нужно сделать предсказание\n",
        "test_image_names = [\"dog.1041.jpg\", \"dog.1028.jpg\", \"dog.1049.jpg\", \"cat.1037.jpg\"]\n",
        "for imName in test_image_names:\n",
        "\tcurrentImage = cv2.imread(\"test_task7/test/\" + imName)\n",
        "\thist = extract_histogram(currentImage).reshape(1, -1)\n",
        "\tprediction = model.predict(hist)\n",
        "\tprint(prediction[0])\n"
      ],
      "metadata": {
        "colab": {
          "base_uri": "https://localhost:8080/"
        },
        "id": "TZTvGENlj35c",
        "outputId": "087876d3-7bff-47a2-e2be-595b30073695"
      },
      "execution_count": null,
      "outputs": [
        {
          "output_type": "stream",
          "name": "stdout",
          "text": [
            "0.09\n",
            "-0.12\n",
            "-0.01\n",
            "0.6\n",
            "0\n",
            "0\n",
            "0\n",
            "0\n"
          ]
        }
      ]
    },
    {
      "cell_type": "code",
      "source": [
        "ret = system(\"rm -rf test_task7\")\n",
        "ret = system(\"rm -rf train_task7\")"
      ],
      "metadata": {
        "id": "nTgePO2X6il6"
      },
      "execution_count": null,
      "outputs": []
    },
    {
      "cell_type": "markdown",
      "source": [
        "#Упражнение 8"
      ],
      "metadata": {
        "id": "dBgeq-d1S5rk"
      }
    },
    {
      "cell_type": "code",
      "source": [
        "from sklearn.tree import DecisionTreeClassifier\n",
        "from sklearn.metrics import accuracy_score\n",
        "from sklearn.tree import export_graphviz\n",
        "from sklearn.metrics import f1_score\n",
        "import matplotlib.pyplot as plt\n",
        "import pandas as pd\n",
        "import numpy as np\n",
        "import matplotlib\n",
        "import graphviz\n",
        "\n",
        "#сюда название своего файла или ссылку\n",
        "file_name =  'https://courses.openedu.ru/assets/courseware/v1/f2906818eda8fcfc8f8416557ab1e6df/asset-v1:ITMOUniversity+MLDATAN+spring_2022_ITMO_bac+type@asset+block/diabetes.csv'\n",
        "data_pred = pd.read_csv(file_name)\n",
        "\n",
        "# Сюда вставить своё значение\n",
        "data = data_pred.head(550)\n",
        "print(len(data[data.Outcome == 0]))\n",
        "\n",
        "train = data.head(int(len(data) * 0.8))\n",
        "test = data.tail(int(len(data) * 0.2))\n",
        "\n",
        "X = train.drop([\"Outcome\"], axis = 1)\n",
        "y = train[\"Outcome\"]\n",
        "\n",
        "#Сюда вставить свои значения\n",
        "tree = DecisionTreeClassifier(criterion='entropy', max_leaf_nodes = 10, min_samples_leaf = 10, random_state = 2020)\n",
        "clf = tree.fit(X, y)\n",
        "print(clf.tree_.max_depth)\n"
      ],
      "metadata": {
        "colab": {
          "base_uri": "https://localhost:8080/"
        },
        "id": "1HwBf8gIr7_O",
        "outputId": "0d17ba78-8a3e-49b2-c608-f6545b9b0d03"
      },
      "execution_count": null,
      "outputs": [
        {
          "output_type": "stream",
          "name": "stdout",
          "text": [
            "355\n",
            "4\n"
          ]
        }
      ]
    },
    {
      "cell_type": "code",
      "source": [
        "columns = list(X.columns)\n",
        "export_graphviz(clf, out_file='tree.dot', \n",
        "                feature_names=columns,\n",
        "                class_names=['0', '1'],\n",
        "                rounded = True, proportion = False, \n",
        "                precision = 2, filled = True, label='all')\n",
        "\n",
        "with open('tree.dot') as f:\n",
        "    dot_graph = f.read()\n",
        "graphviz.Source(dot_graph)\n",
        "\n",
        "#Следующие два ответа ищем по графу следующим образом:\n",
        "#Ищем последнее условие по которому происходит деление\n",
        "#Название этого предиктора и будет третьим ответом, а число - 94\n",
        "#Для данного примера последнее условие Glucose, BloodPressure или Insulin\n",
        "#Можно взять любое из них\n",
        "#То есть в примере 3-й ответ(например) Glucose, а 4-й - 94.0"
      ],
      "metadata": {
        "colab": {
          "base_uri": "https://localhost:8080/",
          "height": 756
        },
        "id": "F2wLouEctO2S",
        "outputId": "f24d490b-a86e-40d2-b5e5-809d59cf35fb"
      },
      "execution_count": null,
      "outputs": [
        {
          "output_type": "execute_result",
          "data": {
            "text/plain": [
              "<graphviz.files.Source at 0x7f166a900b10>"
            ],
            "image/svg+xml": "<?xml version=\"1.0\" encoding=\"UTF-8\" standalone=\"no\"?>\n<!DOCTYPE svg PUBLIC \"-//W3C//DTD SVG 1.1//EN\"\n \"http://www.w3.org/Graphics/SVG/1.1/DTD/svg11.dtd\">\n<!-- Generated by graphviz version 2.40.1 (20161225.0304)\n -->\n<!-- Title: Tree Pages: 1 -->\n<svg width=\"957pt\" height=\"552pt\"\n viewBox=\"0.00 0.00 956.50 552.00\" xmlns=\"http://www.w3.org/2000/svg\" xmlns:xlink=\"http://www.w3.org/1999/xlink\">\n<g id=\"graph0\" class=\"graph\" transform=\"scale(1 1) rotate(0) translate(4 548)\">\n<title>Tree</title>\n<polygon fill=\"#ffffff\" stroke=\"transparent\" points=\"-4,4 -4,-548 952.5,-548 952.5,4 -4,4\"/>\n<!-- 0 -->\n<g id=\"node1\" class=\"node\">\n<title>0</title>\n<path fill=\"#f5ceb2\" stroke=\"#000000\" d=\"M381.5,-544C381.5,-544 273.5,-544 273.5,-544 267.5,-544 261.5,-538 261.5,-532 261.5,-532 261.5,-473 261.5,-473 261.5,-467 267.5,-461 273.5,-461 273.5,-461 381.5,-461 381.5,-461 387.5,-461 393.5,-467 393.5,-473 393.5,-473 393.5,-532 393.5,-532 393.5,-538 387.5,-544 381.5,-544\"/>\n<text text-anchor=\"middle\" x=\"327.5\" y=\"-528.8\" font-family=\"Helvetica,sans-Serif\" font-size=\"14.00\" fill=\"#000000\">Glucose &lt;= 123.5</text>\n<text text-anchor=\"middle\" x=\"327.5\" y=\"-513.8\" font-family=\"Helvetica,sans-Serif\" font-size=\"14.00\" fill=\"#000000\">entropy = 0.96</text>\n<text text-anchor=\"middle\" x=\"327.5\" y=\"-498.8\" font-family=\"Helvetica,sans-Serif\" font-size=\"14.00\" fill=\"#000000\">samples = 440</text>\n<text text-anchor=\"middle\" x=\"327.5\" y=\"-483.8\" font-family=\"Helvetica,sans-Serif\" font-size=\"14.00\" fill=\"#000000\">value = [273, 167]</text>\n<text text-anchor=\"middle\" x=\"327.5\" y=\"-468.8\" font-family=\"Helvetica,sans-Serif\" font-size=\"14.00\" fill=\"#000000\">class = 0</text>\n</g>\n<!-- 1 -->\n<g id=\"node2\" class=\"node\">\n<title>1</title>\n<path fill=\"#eca26d\" stroke=\"#000000\" d=\"M304.5,-425C304.5,-425 204.5,-425 204.5,-425 198.5,-425 192.5,-419 192.5,-413 192.5,-413 192.5,-354 192.5,-354 192.5,-348 198.5,-342 204.5,-342 204.5,-342 304.5,-342 304.5,-342 310.5,-342 316.5,-348 316.5,-354 316.5,-354 316.5,-413 316.5,-413 316.5,-419 310.5,-425 304.5,-425\"/>\n<text text-anchor=\"middle\" x=\"254.5\" y=\"-409.8\" font-family=\"Helvetica,sans-Serif\" font-size=\"14.00\" fill=\"#000000\">BMI &lt;= 26.35</text>\n<text text-anchor=\"middle\" x=\"254.5\" y=\"-394.8\" font-family=\"Helvetica,sans-Serif\" font-size=\"14.00\" fill=\"#000000\">entropy = 0.74</text>\n<text text-anchor=\"middle\" x=\"254.5\" y=\"-379.8\" font-family=\"Helvetica,sans-Serif\" font-size=\"14.00\" fill=\"#000000\">samples = 250</text>\n<text text-anchor=\"middle\" x=\"254.5\" y=\"-364.8\" font-family=\"Helvetica,sans-Serif\" font-size=\"14.00\" fill=\"#000000\">value = [198, 52]</text>\n<text text-anchor=\"middle\" x=\"254.5\" y=\"-349.8\" font-family=\"Helvetica,sans-Serif\" font-size=\"14.00\" fill=\"#000000\">class = 0</text>\n</g>\n<!-- 0&#45;&gt;1 -->\n<g id=\"edge1\" class=\"edge\">\n<title>0&#45;&gt;1</title>\n<path fill=\"none\" stroke=\"#000000\" d=\"M301.9681,-460.8796C296.609,-452.1434 290.9021,-442.8404 285.3718,-433.8253\"/>\n<polygon fill=\"#000000\" stroke=\"#000000\" points=\"288.3533,-431.9919 280.1408,-425.2981 282.3865,-435.6522 288.3533,-431.9919\"/>\n<text text-anchor=\"middle\" x=\"274.3161\" y=\"-445.9101\" font-family=\"Helvetica,sans-Serif\" font-size=\"14.00\" fill=\"#000000\">True</text>\n</g>\n<!-- 2 -->\n<g id=\"node9\" class=\"node\">\n<title>2</title>\n<path fill=\"#baddf6\" stroke=\"#000000\" d=\"M506,-425C506,-425 399,-425 399,-425 393,-425 387,-419 387,-413 387,-413 387,-354 387,-354 387,-348 393,-342 399,-342 399,-342 506,-342 506,-342 512,-342 518,-348 518,-354 518,-354 518,-413 518,-413 518,-419 512,-425 506,-425\"/>\n<text text-anchor=\"middle\" x=\"452.5\" y=\"-409.8\" font-family=\"Helvetica,sans-Serif\" font-size=\"14.00\" fill=\"#000000\">Glucose &lt;= 154.5</text>\n<text text-anchor=\"middle\" x=\"452.5\" y=\"-394.8\" font-family=\"Helvetica,sans-Serif\" font-size=\"14.00\" fill=\"#000000\">entropy = 0.97</text>\n<text text-anchor=\"middle\" x=\"452.5\" y=\"-379.8\" font-family=\"Helvetica,sans-Serif\" font-size=\"14.00\" fill=\"#000000\">samples = 190</text>\n<text text-anchor=\"middle\" x=\"452.5\" y=\"-364.8\" font-family=\"Helvetica,sans-Serif\" font-size=\"14.00\" fill=\"#000000\">value = [75, 115]</text>\n<text text-anchor=\"middle\" x=\"452.5\" y=\"-349.8\" font-family=\"Helvetica,sans-Serif\" font-size=\"14.00\" fill=\"#000000\">class = 1</text>\n</g>\n<!-- 0&#45;&gt;2 -->\n<g id=\"edge8\" class=\"edge\">\n<title>0&#45;&gt;2</title>\n<path fill=\"none\" stroke=\"#000000\" d=\"M371.2189,-460.8796C380.8686,-451.6931 391.1766,-441.8798 401.0991,-432.4336\"/>\n<polygon fill=\"#000000\" stroke=\"#000000\" points=\"403.765,-434.7282 408.5945,-425.2981 398.9384,-429.6582 403.765,-434.7282\"/>\n<text text-anchor=\"middle\" x=\"407.9799\" y=\"-446.5905\" font-family=\"Helvetica,sans-Serif\" font-size=\"14.00\" fill=\"#000000\">False</text>\n</g>\n<!-- 3 -->\n<g id=\"node3\" class=\"node\">\n<title>3</title>\n<path fill=\"#e5833c\" stroke=\"#000000\" d=\"M162.5,-298.5C162.5,-298.5 76.5,-298.5 76.5,-298.5 70.5,-298.5 64.5,-292.5 64.5,-286.5 64.5,-286.5 64.5,-242.5 64.5,-242.5 64.5,-236.5 70.5,-230.5 76.5,-230.5 76.5,-230.5 162.5,-230.5 162.5,-230.5 168.5,-230.5 174.5,-236.5 174.5,-242.5 174.5,-242.5 174.5,-286.5 174.5,-286.5 174.5,-292.5 168.5,-298.5 162.5,-298.5\"/>\n<text text-anchor=\"middle\" x=\"119.5\" y=\"-283.3\" font-family=\"Helvetica,sans-Serif\" font-size=\"14.00\" fill=\"#000000\">entropy = 0.11</text>\n<text text-anchor=\"middle\" x=\"119.5\" y=\"-268.3\" font-family=\"Helvetica,sans-Serif\" font-size=\"14.00\" fill=\"#000000\">samples = 72</text>\n<text text-anchor=\"middle\" x=\"119.5\" y=\"-253.3\" font-family=\"Helvetica,sans-Serif\" font-size=\"14.00\" fill=\"#000000\">value = [71, 1]</text>\n<text text-anchor=\"middle\" x=\"119.5\" y=\"-238.3\" font-family=\"Helvetica,sans-Serif\" font-size=\"14.00\" fill=\"#000000\">class = 0</text>\n</g>\n<!-- 1&#45;&gt;3 -->\n<g id=\"edge2\" class=\"edge\">\n<title>1&#45;&gt;3</title>\n<path fill=\"none\" stroke=\"#000000\" d=\"M207.2836,-341.8796C193.9358,-330.1138 179.4215,-317.3197 166.1096,-305.5855\"/>\n<polygon fill=\"#000000\" stroke=\"#000000\" points=\"168.2448,-302.8019 158.4287,-298.8149 163.616,-308.0531 168.2448,-302.8019\"/>\n</g>\n<!-- 4 -->\n<g id=\"node4\" class=\"node\">\n<title>4</title>\n<path fill=\"#efb489\" stroke=\"#000000\" d=\"M304.5,-306C304.5,-306 204.5,-306 204.5,-306 198.5,-306 192.5,-300 192.5,-294 192.5,-294 192.5,-235 192.5,-235 192.5,-229 198.5,-223 204.5,-223 204.5,-223 304.5,-223 304.5,-223 310.5,-223 316.5,-229 316.5,-235 316.5,-235 316.5,-294 316.5,-294 316.5,-300 310.5,-306 304.5,-306\"/>\n<text text-anchor=\"middle\" x=\"254.5\" y=\"-290.8\" font-family=\"Helvetica,sans-Serif\" font-size=\"14.00\" fill=\"#000000\">Age &lt;= 25.5</text>\n<text text-anchor=\"middle\" x=\"254.5\" y=\"-275.8\" font-family=\"Helvetica,sans-Serif\" font-size=\"14.00\" fill=\"#000000\">entropy = 0.86</text>\n<text text-anchor=\"middle\" x=\"254.5\" y=\"-260.8\" font-family=\"Helvetica,sans-Serif\" font-size=\"14.00\" fill=\"#000000\">samples = 178</text>\n<text text-anchor=\"middle\" x=\"254.5\" y=\"-245.8\" font-family=\"Helvetica,sans-Serif\" font-size=\"14.00\" fill=\"#000000\">value = [127, 51]</text>\n<text text-anchor=\"middle\" x=\"254.5\" y=\"-230.8\" font-family=\"Helvetica,sans-Serif\" font-size=\"14.00\" fill=\"#000000\">class = 0</text>\n</g>\n<!-- 1&#45;&gt;4 -->\n<g id=\"edge3\" class=\"edge\">\n<title>1&#45;&gt;4</title>\n<path fill=\"none\" stroke=\"#000000\" d=\"M254.5,-341.8796C254.5,-333.6838 254.5,-324.9891 254.5,-316.5013\"/>\n<polygon fill=\"#000000\" stroke=\"#000000\" points=\"258.0001,-316.298 254.5,-306.2981 251.0001,-316.2981 258.0001,-316.298\"/>\n</g>\n<!-- 7 -->\n<g id=\"node5\" class=\"node\">\n<title>7</title>\n<path fill=\"#e89050\" stroke=\"#000000\" d=\"M166,-187C166,-187 67,-187 67,-187 61,-187 55,-181 55,-175 55,-175 55,-116 55,-116 55,-110 61,-104 67,-104 67,-104 166,-104 166,-104 172,-104 178,-110 178,-116 178,-116 178,-175 178,-175 178,-181 172,-187 166,-187\"/>\n<text text-anchor=\"middle\" x=\"116.5\" y=\"-171.8\" font-family=\"Helvetica,sans-Serif\" font-size=\"14.00\" fill=\"#000000\">Glucose &lt;= 94.0</text>\n<text text-anchor=\"middle\" x=\"116.5\" y=\"-156.8\" font-family=\"Helvetica,sans-Serif\" font-size=\"14.00\" fill=\"#000000\">entropy = 0.49</text>\n<text text-anchor=\"middle\" x=\"116.5\" y=\"-141.8\" font-family=\"Helvetica,sans-Serif\" font-size=\"14.00\" fill=\"#000000\">samples = 66</text>\n<text text-anchor=\"middle\" x=\"116.5\" y=\"-126.8\" font-family=\"Helvetica,sans-Serif\" font-size=\"14.00\" fill=\"#000000\">value = [59, 7]</text>\n<text text-anchor=\"middle\" x=\"116.5\" y=\"-111.8\" font-family=\"Helvetica,sans-Serif\" font-size=\"14.00\" fill=\"#000000\">class = 0</text>\n</g>\n<!-- 4&#45;&gt;7 -->\n<g id=\"edge4\" class=\"edge\">\n<title>4&#45;&gt;7</title>\n<path fill=\"none\" stroke=\"#000000\" d=\"M206.2343,-222.8796C195.3722,-213.513 183.7544,-203.4948 172.6027,-193.8784\"/>\n<polygon fill=\"#000000\" stroke=\"#000000\" points=\"174.8306,-191.178 164.9717,-187.2981 170.2592,-196.4792 174.8306,-191.178\"/>\n</g>\n<!-- 8 -->\n<g id=\"node8\" class=\"node\">\n<title>8</title>\n<path fill=\"#f6d3b9\" stroke=\"#000000\" d=\"M300.5,-179.5C300.5,-179.5 208.5,-179.5 208.5,-179.5 202.5,-179.5 196.5,-173.5 196.5,-167.5 196.5,-167.5 196.5,-123.5 196.5,-123.5 196.5,-117.5 202.5,-111.5 208.5,-111.5 208.5,-111.5 300.5,-111.5 300.5,-111.5 306.5,-111.5 312.5,-117.5 312.5,-123.5 312.5,-123.5 312.5,-167.5 312.5,-167.5 312.5,-173.5 306.5,-179.5 300.5,-179.5\"/>\n<text text-anchor=\"middle\" x=\"254.5\" y=\"-164.3\" font-family=\"Helvetica,sans-Serif\" font-size=\"14.00\" fill=\"#000000\">entropy = 0.97</text>\n<text text-anchor=\"middle\" x=\"254.5\" y=\"-149.3\" font-family=\"Helvetica,sans-Serif\" font-size=\"14.00\" fill=\"#000000\">samples = 112</text>\n<text text-anchor=\"middle\" x=\"254.5\" y=\"-134.3\" font-family=\"Helvetica,sans-Serif\" font-size=\"14.00\" fill=\"#000000\">value = [68, 44]</text>\n<text text-anchor=\"middle\" x=\"254.5\" y=\"-119.3\" font-family=\"Helvetica,sans-Serif\" font-size=\"14.00\" fill=\"#000000\">class = 0</text>\n</g>\n<!-- 4&#45;&gt;8 -->\n<g id=\"edge7\" class=\"edge\">\n<title>4&#45;&gt;8</title>\n<path fill=\"none\" stroke=\"#000000\" d=\"M254.5,-222.8796C254.5,-212.2134 254.5,-200.7021 254.5,-189.9015\"/>\n<polygon fill=\"#000000\" stroke=\"#000000\" points=\"258.0001,-189.8149 254.5,-179.8149 251.0001,-189.815 258.0001,-189.8149\"/>\n</g>\n<!-- 17 -->\n<g id=\"node6\" class=\"node\">\n<title>17</title>\n<path fill=\"#e58139\" stroke=\"#000000\" d=\"M95,-68C95,-68 12,-68 12,-68 6,-68 0,-62 0,-56 0,-56 0,-12 0,-12 0,-6 6,0 12,0 12,0 95,0 95,0 101,0 107,-6 107,-12 107,-12 107,-56 107,-56 107,-62 101,-68 95,-68\"/>\n<text text-anchor=\"middle\" x=\"53.5\" y=\"-52.8\" font-family=\"Helvetica,sans-Serif\" font-size=\"14.00\" fill=\"#000000\">entropy = 0.0</text>\n<text text-anchor=\"middle\" x=\"53.5\" y=\"-37.8\" font-family=\"Helvetica,sans-Serif\" font-size=\"14.00\" fill=\"#000000\">samples = 32</text>\n<text text-anchor=\"middle\" x=\"53.5\" y=\"-22.8\" font-family=\"Helvetica,sans-Serif\" font-size=\"14.00\" fill=\"#000000\">value = [32, 0]</text>\n<text text-anchor=\"middle\" x=\"53.5\" y=\"-7.8\" font-family=\"Helvetica,sans-Serif\" font-size=\"14.00\" fill=\"#000000\">class = 0</text>\n</g>\n<!-- 7&#45;&gt;17 -->\n<g id=\"edge5\" class=\"edge\">\n<title>7&#45;&gt;17</title>\n<path fill=\"none\" stroke=\"#000000\" d=\"M93.0411,-103.9815C88.1078,-95.2504 82.8926,-86.0202 77.9248,-77.2281\"/>\n<polygon fill=\"#000000\" stroke=\"#000000\" points=\"80.8263,-75.2483 72.8597,-68.2637 74.7319,-78.6918 80.8263,-75.2483\"/>\n</g>\n<!-- 18 -->\n<g id=\"node7\" class=\"node\">\n<title>18</title>\n<path fill=\"#eca26c\" stroke=\"#000000\" d=\"M223.5,-68C223.5,-68 137.5,-68 137.5,-68 131.5,-68 125.5,-62 125.5,-56 125.5,-56 125.5,-12 125.5,-12 125.5,-6 131.5,0 137.5,0 137.5,0 223.5,0 223.5,0 229.5,0 235.5,-6 235.5,-12 235.5,-12 235.5,-56 235.5,-56 235.5,-62 229.5,-68 223.5,-68\"/>\n<text text-anchor=\"middle\" x=\"180.5\" y=\"-52.8\" font-family=\"Helvetica,sans-Serif\" font-size=\"14.00\" fill=\"#000000\">entropy = 0.73</text>\n<text text-anchor=\"middle\" x=\"180.5\" y=\"-37.8\" font-family=\"Helvetica,sans-Serif\" font-size=\"14.00\" fill=\"#000000\">samples = 34</text>\n<text text-anchor=\"middle\" x=\"180.5\" y=\"-22.8\" font-family=\"Helvetica,sans-Serif\" font-size=\"14.00\" fill=\"#000000\">value = [27, 7]</text>\n<text text-anchor=\"middle\" x=\"180.5\" y=\"-7.8\" font-family=\"Helvetica,sans-Serif\" font-size=\"14.00\" fill=\"#000000\">class = 0</text>\n</g>\n<!-- 7&#45;&gt;18 -->\n<g id=\"edge6\" class=\"edge\">\n<title>7&#45;&gt;18</title>\n<path fill=\"none\" stroke=\"#000000\" d=\"M140.3312,-103.9815C145.3956,-95.1585 150.7525,-85.8258 155.8468,-76.9506\"/>\n<polygon fill=\"#000000\" stroke=\"#000000\" points=\"158.8903,-78.6789 160.833,-68.2637 152.8193,-75.1942 158.8903,-78.6789\"/>\n</g>\n<!-- 5 -->\n<g id=\"node10\" class=\"node\">\n<title>5</title>\n<path fill=\"#fcf1e9\" stroke=\"#000000\" d=\"M498.5,-306C498.5,-306 406.5,-306 406.5,-306 400.5,-306 394.5,-300 394.5,-294 394.5,-294 394.5,-235 394.5,-235 394.5,-229 400.5,-223 406.5,-223 406.5,-223 498.5,-223 498.5,-223 504.5,-223 510.5,-229 510.5,-235 510.5,-235 510.5,-294 510.5,-294 510.5,-300 504.5,-306 498.5,-306\"/>\n<text text-anchor=\"middle\" x=\"452.5\" y=\"-290.8\" font-family=\"Helvetica,sans-Serif\" font-size=\"14.00\" fill=\"#000000\">BMI &lt;= 29.95</text>\n<text text-anchor=\"middle\" x=\"452.5\" y=\"-275.8\" font-family=\"Helvetica,sans-Serif\" font-size=\"14.00\" fill=\"#000000\">entropy = 1.0</text>\n<text text-anchor=\"middle\" x=\"452.5\" y=\"-260.8\" font-family=\"Helvetica,sans-Serif\" font-size=\"14.00\" fill=\"#000000\">samples = 117</text>\n<text text-anchor=\"middle\" x=\"452.5\" y=\"-245.8\" font-family=\"Helvetica,sans-Serif\" font-size=\"14.00\" fill=\"#000000\">value = [62, 55]</text>\n<text text-anchor=\"middle\" x=\"452.5\" y=\"-230.8\" font-family=\"Helvetica,sans-Serif\" font-size=\"14.00\" fill=\"#000000\">class = 0</text>\n</g>\n<!-- 2&#45;&gt;5 -->\n<g id=\"edge9\" class=\"edge\">\n<title>2&#45;&gt;5</title>\n<path fill=\"none\" stroke=\"#000000\" d=\"M452.5,-341.8796C452.5,-333.6838 452.5,-324.9891 452.5,-316.5013\"/>\n<polygon fill=\"#000000\" stroke=\"#000000\" points=\"456.0001,-316.298 452.5,-306.2981 449.0001,-316.2981 456.0001,-316.298\"/>\n</g>\n<!-- 6 -->\n<g id=\"node15\" class=\"node\">\n<title>6</title>\n<path fill=\"#64b2eb\" stroke=\"#000000\" d=\"M802,-306C802,-306 593,-306 593,-306 587,-306 581,-300 581,-294 581,-294 581,-235 581,-235 581,-229 587,-223 593,-223 593,-223 802,-223 802,-223 808,-223 814,-229 814,-235 814,-235 814,-294 814,-294 814,-300 808,-306 802,-306\"/>\n<text text-anchor=\"middle\" x=\"697.5\" y=\"-290.8\" font-family=\"Helvetica,sans-Serif\" font-size=\"14.00\" fill=\"#000000\">DiabetesPedigreeFunction &lt;= 0.3</text>\n<text text-anchor=\"middle\" x=\"697.5\" y=\"-275.8\" font-family=\"Helvetica,sans-Serif\" font-size=\"14.00\" fill=\"#000000\">entropy = 0.68</text>\n<text text-anchor=\"middle\" x=\"697.5\" y=\"-260.8\" font-family=\"Helvetica,sans-Serif\" font-size=\"14.00\" fill=\"#000000\">samples = 73</text>\n<text text-anchor=\"middle\" x=\"697.5\" y=\"-245.8\" font-family=\"Helvetica,sans-Serif\" font-size=\"14.00\" fill=\"#000000\">value = [13, 60]</text>\n<text text-anchor=\"middle\" x=\"697.5\" y=\"-230.8\" font-family=\"Helvetica,sans-Serif\" font-size=\"14.00\" fill=\"#000000\">class = 1</text>\n</g>\n<!-- 2&#45;&gt;6 -->\n<g id=\"edge14\" class=\"edge\">\n<title>2&#45;&gt;6</title>\n<path fill=\"none\" stroke=\"#000000\" d=\"M518.1555,-351.6102C544.1192,-338.9992 574.4605,-324.2621 602.7238,-310.5342\"/>\n<polygon fill=\"#000000\" stroke=\"#000000\" points=\"604.353,-313.6339 611.819,-306.1165 601.2947,-307.3373 604.353,-313.6339\"/>\n</g>\n<!-- 9 -->\n<g id=\"node11\" class=\"node\">\n<title>9</title>\n<path fill=\"#eda774\" stroke=\"#000000\" d=\"M428.5,-179.5C428.5,-179.5 342.5,-179.5 342.5,-179.5 336.5,-179.5 330.5,-173.5 330.5,-167.5 330.5,-167.5 330.5,-123.5 330.5,-123.5 330.5,-117.5 336.5,-111.5 342.5,-111.5 342.5,-111.5 428.5,-111.5 428.5,-111.5 434.5,-111.5 440.5,-117.5 440.5,-123.5 440.5,-123.5 440.5,-167.5 440.5,-167.5 440.5,-173.5 434.5,-179.5 428.5,-179.5\"/>\n<text text-anchor=\"middle\" x=\"385.5\" y=\"-164.3\" font-family=\"Helvetica,sans-Serif\" font-size=\"14.00\" fill=\"#000000\">entropy = 0.78</text>\n<text text-anchor=\"middle\" x=\"385.5\" y=\"-149.3\" font-family=\"Helvetica,sans-Serif\" font-size=\"14.00\" fill=\"#000000\">samples = 39</text>\n<text text-anchor=\"middle\" x=\"385.5\" y=\"-134.3\" font-family=\"Helvetica,sans-Serif\" font-size=\"14.00\" fill=\"#000000\">value = [30, 9]</text>\n<text text-anchor=\"middle\" x=\"385.5\" y=\"-119.3\" font-family=\"Helvetica,sans-Serif\" font-size=\"14.00\" fill=\"#000000\">class = 0</text>\n</g>\n<!-- 5&#45;&gt;9 -->\n<g id=\"edge10\" class=\"edge\">\n<title>5&#45;&gt;9</title>\n<path fill=\"none\" stroke=\"#000000\" d=\"M429.0667,-222.8796C422.8137,-211.7735 416.0448,-199.7513 409.749,-188.5691\"/>\n<polygon fill=\"#000000\" stroke=\"#000000\" points=\"412.7761,-186.8116 404.8202,-179.8149 406.6765,-190.2459 412.7761,-186.8116\"/>\n</g>\n<!-- 10 -->\n<g id=\"node12\" class=\"node\">\n<title>10</title>\n<path fill=\"#c3e1f7\" stroke=\"#000000\" d=\"M612,-187C612,-187 471,-187 471,-187 465,-187 459,-181 459,-175 459,-175 459,-116 459,-116 459,-110 465,-104 471,-104 471,-104 612,-104 612,-104 618,-104 624,-110 624,-116 624,-116 624,-175 624,-175 624,-181 618,-187 612,-187\"/>\n<text text-anchor=\"middle\" x=\"541.5\" y=\"-171.8\" font-family=\"Helvetica,sans-Serif\" font-size=\"14.00\" fill=\"#000000\">BloodPressure &lt;= 59.0</text>\n<text text-anchor=\"middle\" x=\"541.5\" y=\"-156.8\" font-family=\"Helvetica,sans-Serif\" font-size=\"14.00\" fill=\"#000000\">entropy = 0.98</text>\n<text text-anchor=\"middle\" x=\"541.5\" y=\"-141.8\" font-family=\"Helvetica,sans-Serif\" font-size=\"14.00\" fill=\"#000000\">samples = 78</text>\n<text text-anchor=\"middle\" x=\"541.5\" y=\"-126.8\" font-family=\"Helvetica,sans-Serif\" font-size=\"14.00\" fill=\"#000000\">value = [32, 46]</text>\n<text text-anchor=\"middle\" x=\"541.5\" y=\"-111.8\" font-family=\"Helvetica,sans-Serif\" font-size=\"14.00\" fill=\"#000000\">class = 1</text>\n</g>\n<!-- 5&#45;&gt;10 -->\n<g id=\"edge11\" class=\"edge\">\n<title>5&#45;&gt;10</title>\n<path fill=\"none\" stroke=\"#000000\" d=\"M483.6279,-222.8796C490.229,-214.0534 497.2629,-204.6485 504.0702,-195.5466\"/>\n<polygon fill=\"#000000\" stroke=\"#000000\" points=\"507.0528,-197.4024 510.2393,-187.2981 501.4472,-193.2099 507.0528,-197.4024\"/>\n</g>\n<!-- 11 -->\n<g id=\"node13\" class=\"node\">\n<title>11</title>\n<path fill=\"#399de5\" stroke=\"#000000\" d=\"M500,-68C500,-68 417,-68 417,-68 411,-68 405,-62 405,-56 405,-56 405,-12 405,-12 405,-6 411,0 417,0 417,0 500,0 500,0 506,0 512,-6 512,-12 512,-12 512,-56 512,-56 512,-62 506,-68 500,-68\"/>\n<text text-anchor=\"middle\" x=\"458.5\" y=\"-52.8\" font-family=\"Helvetica,sans-Serif\" font-size=\"14.00\" fill=\"#000000\">entropy = 0.0</text>\n<text text-anchor=\"middle\" x=\"458.5\" y=\"-37.8\" font-family=\"Helvetica,sans-Serif\" font-size=\"14.00\" fill=\"#000000\">samples = 10</text>\n<text text-anchor=\"middle\" x=\"458.5\" y=\"-22.8\" font-family=\"Helvetica,sans-Serif\" font-size=\"14.00\" fill=\"#000000\">value = [0, 10]</text>\n<text text-anchor=\"middle\" x=\"458.5\" y=\"-7.8\" font-family=\"Helvetica,sans-Serif\" font-size=\"14.00\" fill=\"#000000\">class = 1</text>\n</g>\n<!-- 10&#45;&gt;11 -->\n<g id=\"edge12\" class=\"edge\">\n<title>10&#45;&gt;11</title>\n<path fill=\"none\" stroke=\"#000000\" d=\"M510.5939,-103.9815C503.8892,-94.9747 496.7892,-85.4367 490.0597,-76.3965\"/>\n<polygon fill=\"#000000\" stroke=\"#000000\" points=\"492.7845,-74.1953 484.0057,-68.2637 487.1694,-78.3752 492.7845,-74.1953\"/>\n</g>\n<!-- 12 -->\n<g id=\"node14\" class=\"node\">\n<title>12</title>\n<path fill=\"#e9f4fc\" stroke=\"#000000\" d=\"M634.5,-68C634.5,-68 542.5,-68 542.5,-68 536.5,-68 530.5,-62 530.5,-56 530.5,-56 530.5,-12 530.5,-12 530.5,-6 536.5,0 542.5,0 542.5,0 634.5,0 634.5,0 640.5,0 646.5,-6 646.5,-12 646.5,-12 646.5,-56 646.5,-56 646.5,-62 640.5,-68 634.5,-68\"/>\n<text text-anchor=\"middle\" x=\"588.5\" y=\"-52.8\" font-family=\"Helvetica,sans-Serif\" font-size=\"14.00\" fill=\"#000000\">entropy = 1.0</text>\n<text text-anchor=\"middle\" x=\"588.5\" y=\"-37.8\" font-family=\"Helvetica,sans-Serif\" font-size=\"14.00\" fill=\"#000000\">samples = 68</text>\n<text text-anchor=\"middle\" x=\"588.5\" y=\"-22.8\" font-family=\"Helvetica,sans-Serif\" font-size=\"14.00\" fill=\"#000000\">value = [32, 36]</text>\n<text text-anchor=\"middle\" x=\"588.5\" y=\"-7.8\" font-family=\"Helvetica,sans-Serif\" font-size=\"14.00\" fill=\"#000000\">class = 1</text>\n</g>\n<!-- 10&#45;&gt;12 -->\n<g id=\"edge13\" class=\"edge\">\n<title>10&#45;&gt;12</title>\n<path fill=\"none\" stroke=\"#000000\" d=\"M559.0011,-103.9815C562.6427,-95.3423 566.4903,-86.2144 570.1612,-77.5059\"/>\n<polygon fill=\"#000000\" stroke=\"#000000\" points=\"573.3979,-78.838 574.057,-68.2637 566.9475,-76.119 573.3979,-78.838\"/>\n</g>\n<!-- 13 -->\n<g id=\"node16\" class=\"node\">\n<title>13</title>\n<path fill=\"#c2e1f7\" stroke=\"#000000\" d=\"M740.5,-179.5C740.5,-179.5 654.5,-179.5 654.5,-179.5 648.5,-179.5 642.5,-173.5 642.5,-167.5 642.5,-167.5 642.5,-123.5 642.5,-123.5 642.5,-117.5 648.5,-111.5 654.5,-111.5 654.5,-111.5 740.5,-111.5 740.5,-111.5 746.5,-111.5 752.5,-117.5 752.5,-123.5 752.5,-123.5 752.5,-167.5 752.5,-167.5 752.5,-173.5 746.5,-179.5 740.5,-179.5\"/>\n<text text-anchor=\"middle\" x=\"697.5\" y=\"-164.3\" font-family=\"Helvetica,sans-Serif\" font-size=\"14.00\" fill=\"#000000\">entropy = 0.98</text>\n<text text-anchor=\"middle\" x=\"697.5\" y=\"-149.3\" font-family=\"Helvetica,sans-Serif\" font-size=\"14.00\" fill=\"#000000\">samples = 22</text>\n<text text-anchor=\"middle\" x=\"697.5\" y=\"-134.3\" font-family=\"Helvetica,sans-Serif\" font-size=\"14.00\" fill=\"#000000\">value = [9, 13]</text>\n<text text-anchor=\"middle\" x=\"697.5\" y=\"-119.3\" font-family=\"Helvetica,sans-Serif\" font-size=\"14.00\" fill=\"#000000\">class = 1</text>\n</g>\n<!-- 6&#45;&gt;13 -->\n<g id=\"edge15\" class=\"edge\">\n<title>6&#45;&gt;13</title>\n<path fill=\"none\" stroke=\"#000000\" d=\"M697.5,-222.8796C697.5,-212.2134 697.5,-200.7021 697.5,-189.9015\"/>\n<polygon fill=\"#000000\" stroke=\"#000000\" points=\"701.0001,-189.8149 697.5,-179.8149 694.0001,-189.815 701.0001,-189.8149\"/>\n</g>\n<!-- 14 -->\n<g id=\"node17\" class=\"node\">\n<title>14</title>\n<path fill=\"#4aa5e7\" stroke=\"#000000\" d=\"M878,-187C878,-187 783,-187 783,-187 777,-187 771,-181 771,-175 771,-175 771,-116 771,-116 771,-110 777,-104 783,-104 783,-104 878,-104 878,-104 884,-104 890,-110 890,-116 890,-116 890,-175 890,-175 890,-181 884,-187 878,-187\"/>\n<text text-anchor=\"middle\" x=\"830.5\" y=\"-171.8\" font-family=\"Helvetica,sans-Serif\" font-size=\"14.00\" fill=\"#000000\">Insulin &lt;= 350.0</text>\n<text text-anchor=\"middle\" x=\"830.5\" y=\"-156.8\" font-family=\"Helvetica,sans-Serif\" font-size=\"14.00\" fill=\"#000000\">entropy = 0.4</text>\n<text text-anchor=\"middle\" x=\"830.5\" y=\"-141.8\" font-family=\"Helvetica,sans-Serif\" font-size=\"14.00\" fill=\"#000000\">samples = 51</text>\n<text text-anchor=\"middle\" x=\"830.5\" y=\"-126.8\" font-family=\"Helvetica,sans-Serif\" font-size=\"14.00\" fill=\"#000000\">value = [4, 47]</text>\n<text text-anchor=\"middle\" x=\"830.5\" y=\"-111.8\" font-family=\"Helvetica,sans-Serif\" font-size=\"14.00\" fill=\"#000000\">class = 1</text>\n</g>\n<!-- 6&#45;&gt;14 -->\n<g id=\"edge16\" class=\"edge\">\n<title>6&#45;&gt;14</title>\n<path fill=\"none\" stroke=\"#000000\" d=\"M744.0169,-222.8796C754.3848,-213.6031 765.4671,-203.6874 776.1199,-194.1559\"/>\n<polygon fill=\"#000000\" stroke=\"#000000\" points=\"778.6659,-196.5744 783.7845,-187.2981 773.9983,-191.3577 778.6659,-196.5744\"/>\n</g>\n<!-- 15 -->\n<g id=\"node18\" class=\"node\">\n<title>15</title>\n<path fill=\"#399de5\" stroke=\"#000000\" d=\"M808,-68C808,-68 725,-68 725,-68 719,-68 713,-62 713,-56 713,-56 713,-12 713,-12 713,-6 719,0 725,0 725,0 808,0 808,0 814,0 820,-6 820,-12 820,-12 820,-56 820,-56 820,-62 814,-68 808,-68\"/>\n<text text-anchor=\"middle\" x=\"766.5\" y=\"-52.8\" font-family=\"Helvetica,sans-Serif\" font-size=\"14.00\" fill=\"#000000\">entropy = 0.0</text>\n<text text-anchor=\"middle\" x=\"766.5\" y=\"-37.8\" font-family=\"Helvetica,sans-Serif\" font-size=\"14.00\" fill=\"#000000\">samples = 41</text>\n<text text-anchor=\"middle\" x=\"766.5\" y=\"-22.8\" font-family=\"Helvetica,sans-Serif\" font-size=\"14.00\" fill=\"#000000\">value = [0, 41]</text>\n<text text-anchor=\"middle\" x=\"766.5\" y=\"-7.8\" font-family=\"Helvetica,sans-Serif\" font-size=\"14.00\" fill=\"#000000\">class = 1</text>\n</g>\n<!-- 14&#45;&gt;15 -->\n<g id=\"edge17\" class=\"edge\">\n<title>14&#45;&gt;15</title>\n<path fill=\"none\" stroke=\"#000000\" d=\"M806.6688,-103.9815C801.6044,-95.1585 796.2475,-85.8258 791.1532,-76.9506\"/>\n<polygon fill=\"#000000\" stroke=\"#000000\" points=\"794.1807,-75.1942 786.167,-68.2637 788.1097,-78.6789 794.1807,-75.1942\"/>\n</g>\n<!-- 16 -->\n<g id=\"node19\" class=\"node\">\n<title>16</title>\n<path fill=\"#bddef6\" stroke=\"#000000\" d=\"M936.5,-68C936.5,-68 850.5,-68 850.5,-68 844.5,-68 838.5,-62 838.5,-56 838.5,-56 838.5,-12 838.5,-12 838.5,-6 844.5,0 850.5,0 850.5,0 936.5,0 936.5,0 942.5,0 948.5,-6 948.5,-12 948.5,-12 948.5,-56 948.5,-56 948.5,-62 942.5,-68 936.5,-68\"/>\n<text text-anchor=\"middle\" x=\"893.5\" y=\"-52.8\" font-family=\"Helvetica,sans-Serif\" font-size=\"14.00\" fill=\"#000000\">entropy = 0.97</text>\n<text text-anchor=\"middle\" x=\"893.5\" y=\"-37.8\" font-family=\"Helvetica,sans-Serif\" font-size=\"14.00\" fill=\"#000000\">samples = 10</text>\n<text text-anchor=\"middle\" x=\"893.5\" y=\"-22.8\" font-family=\"Helvetica,sans-Serif\" font-size=\"14.00\" fill=\"#000000\">value = [4, 6]</text>\n<text text-anchor=\"middle\" x=\"893.5\" y=\"-7.8\" font-family=\"Helvetica,sans-Serif\" font-size=\"14.00\" fill=\"#000000\">class = 1</text>\n</g>\n<!-- 14&#45;&gt;16 -->\n<g id=\"edge18\" class=\"edge\">\n<title>14&#45;&gt;16</title>\n<path fill=\"none\" stroke=\"#000000\" d=\"M853.9589,-103.9815C858.8922,-95.2504 864.1074,-86.0202 869.0752,-77.2281\"/>\n<polygon fill=\"#000000\" stroke=\"#000000\" points=\"872.2681,-78.6918 874.1403,-68.2637 866.1737,-75.2483 872.2681,-78.6918\"/>\n</g>\n</g>\n</svg>\n"
          },
          "metadata": {},
          "execution_count": 16
        }
      ]
    },
    {
      "cell_type": "code",
      "source": [
        "import warnings\n",
        "warnings.filterwarnings(\"ignore\")\n",
        "features = list(test.columns[:8])\n",
        "x = test[features]\n",
        "y_true = test['Outcome']\n",
        "y_pred = clf.predict(x)\n",
        "print(round(accuracy_score(y_true, y_pred),2))\n",
        "print(round(f1_score(y_true, y_pred, average='macro'),2))\n",
        "\n",
        "#здесь нужно написать номера пациентов из условия\n",
        "print(clf.predict([data_pred.loc[766, features].tolist()])[0])\n",
        "print(clf.predict([data_pred.loc[703, features].tolist()])[0])\n",
        "print(clf.predict([data_pred.loc[731, features].tolist()])[0])\n",
        "print(clf.predict([data_pred.loc[716, features].tolist()])[0])"
      ],
      "metadata": {
        "colab": {
          "base_uri": "https://localhost:8080/"
        },
        "id": "1qlboPNmuK97",
        "outputId": "f004eaf3-9204-4111-b797-203667a2b0d9"
      },
      "execution_count": null,
      "outputs": [
        {
          "output_type": "stream",
          "name": "stdout",
          "text": [
            "0.77\n",
            "0.71\n",
            "1\n",
            "1\n",
            "0\n",
            "1\n"
          ]
        }
      ]
    },
    {
      "cell_type": "markdown",
      "source": [
        "#Упражнение 9"
      ],
      "metadata": {
        "id": "SsvKqZTOS6r4"
      }
    },
    {
      "cell_type": "code",
      "source": [
        "from sklearn.cluster import KMeans\n",
        "import pandas as pd\n",
        "import numpy as np\n",
        "\n",
        "f = open(\"report9.csv\", \"w\")\n",
        "f.write(\n",
        "\"\"\"Object,X,Y,Cluster\n",
        "1, 16, 12, 0\n",
        "2, 5, 5, 1\n",
        "3, 14, 5, 2\n",
        "4, 8, 2, 1\n",
        "5, 2, 18, 1\n",
        "6, 1, 4, 0\n",
        "7, 8, 20, 2\n",
        "8, 14, 8, 1\n",
        "9, 2, 17, 1\n",
        "10, 7, 20, 0\n",
        "11, 16, 7, 0\n",
        "12, 19, 15, 0\n",
        "13, 20, 20, 2\n",
        "14, 20, 9, 1\n",
        "15, 14, 13, 2\"\"\")  ## сюда вставить свои значения между тремя кавыччками\n",
        "f.close()\n",
        "\n",
        "data = pd.read_csv(\"report9.csv\", delimiter=',', index_col='Object')\n",
        "data = data.drop('Cluster', axis=1)\n",
        "\n",
        "#Сюда вставить параметры из условия\n",
        "kmeans = KMeans(n_clusters=3, init=np.array([[11.8, 11.6], [8.5, 9.83], [14.0, 14.5]]), max_iter=100, n_init=1)\n",
        "model = kmeans.fit(data)\n",
        "data[\"Clusters\"] = model.labels_.tolist()\n",
        "data\n"
      ],
      "metadata": {
        "colab": {
          "base_uri": "https://localhost:8080/",
          "height": 551
        },
        "id": "I5UznTqFw-Gl",
        "outputId": "1a183e14-ece7-449b-fdcd-54f9432957a1"
      },
      "execution_count": null,
      "outputs": [
        {
          "output_type": "execute_result",
          "data": {
            "text/plain": [
              "         X   Y  Clusters\n",
              "Object                  \n",
              "1       16  12         2\n",
              "2        5   5         1\n",
              "3       14   5         0\n",
              "4        8   2         0\n",
              "5        2  18         1\n",
              "6        1   4         1\n",
              "7        8  20         2\n",
              "8       14   8         0\n",
              "9        2  17         1\n",
              "10       7  20         2\n",
              "11      16   7         0\n",
              "12      19  15         2\n",
              "13      20  20         2\n",
              "14      20   9         0\n",
              "15      14  13         2"
            ],
            "text/html": [
              "\n",
              "  <div id=\"df-661d895b-9f9b-402a-b222-f8a773f0389c\">\n",
              "    <div class=\"colab-df-container\">\n",
              "      <div>\n",
              "<style scoped>\n",
              "    .dataframe tbody tr th:only-of-type {\n",
              "        vertical-align: middle;\n",
              "    }\n",
              "\n",
              "    .dataframe tbody tr th {\n",
              "        vertical-align: top;\n",
              "    }\n",
              "\n",
              "    .dataframe thead th {\n",
              "        text-align: right;\n",
              "    }\n",
              "</style>\n",
              "<table border=\"1\" class=\"dataframe\">\n",
              "  <thead>\n",
              "    <tr style=\"text-align: right;\">\n",
              "      <th></th>\n",
              "      <th>X</th>\n",
              "      <th>Y</th>\n",
              "      <th>Clusters</th>\n",
              "    </tr>\n",
              "    <tr>\n",
              "      <th>Object</th>\n",
              "      <th></th>\n",
              "      <th></th>\n",
              "      <th></th>\n",
              "    </tr>\n",
              "  </thead>\n",
              "  <tbody>\n",
              "    <tr>\n",
              "      <th>1</th>\n",
              "      <td>16</td>\n",
              "      <td>12</td>\n",
              "      <td>2</td>\n",
              "    </tr>\n",
              "    <tr>\n",
              "      <th>2</th>\n",
              "      <td>5</td>\n",
              "      <td>5</td>\n",
              "      <td>1</td>\n",
              "    </tr>\n",
              "    <tr>\n",
              "      <th>3</th>\n",
              "      <td>14</td>\n",
              "      <td>5</td>\n",
              "      <td>0</td>\n",
              "    </tr>\n",
              "    <tr>\n",
              "      <th>4</th>\n",
              "      <td>8</td>\n",
              "      <td>2</td>\n",
              "      <td>0</td>\n",
              "    </tr>\n",
              "    <tr>\n",
              "      <th>5</th>\n",
              "      <td>2</td>\n",
              "      <td>18</td>\n",
              "      <td>1</td>\n",
              "    </tr>\n",
              "    <tr>\n",
              "      <th>6</th>\n",
              "      <td>1</td>\n",
              "      <td>4</td>\n",
              "      <td>1</td>\n",
              "    </tr>\n",
              "    <tr>\n",
              "      <th>7</th>\n",
              "      <td>8</td>\n",
              "      <td>20</td>\n",
              "      <td>2</td>\n",
              "    </tr>\n",
              "    <tr>\n",
              "      <th>8</th>\n",
              "      <td>14</td>\n",
              "      <td>8</td>\n",
              "      <td>0</td>\n",
              "    </tr>\n",
              "    <tr>\n",
              "      <th>9</th>\n",
              "      <td>2</td>\n",
              "      <td>17</td>\n",
              "      <td>1</td>\n",
              "    </tr>\n",
              "    <tr>\n",
              "      <th>10</th>\n",
              "      <td>7</td>\n",
              "      <td>20</td>\n",
              "      <td>2</td>\n",
              "    </tr>\n",
              "    <tr>\n",
              "      <th>11</th>\n",
              "      <td>16</td>\n",
              "      <td>7</td>\n",
              "      <td>0</td>\n",
              "    </tr>\n",
              "    <tr>\n",
              "      <th>12</th>\n",
              "      <td>19</td>\n",
              "      <td>15</td>\n",
              "      <td>2</td>\n",
              "    </tr>\n",
              "    <tr>\n",
              "      <th>13</th>\n",
              "      <td>20</td>\n",
              "      <td>20</td>\n",
              "      <td>2</td>\n",
              "    </tr>\n",
              "    <tr>\n",
              "      <th>14</th>\n",
              "      <td>20</td>\n",
              "      <td>9</td>\n",
              "      <td>0</td>\n",
              "    </tr>\n",
              "    <tr>\n",
              "      <th>15</th>\n",
              "      <td>14</td>\n",
              "      <td>13</td>\n",
              "      <td>2</td>\n",
              "    </tr>\n",
              "  </tbody>\n",
              "</table>\n",
              "</div>\n",
              "      <button class=\"colab-df-convert\" onclick=\"convertToInteractive('df-661d895b-9f9b-402a-b222-f8a773f0389c')\"\n",
              "              title=\"Convert this dataframe to an interactive table.\"\n",
              "              style=\"display:none;\">\n",
              "        \n",
              "  <svg xmlns=\"http://www.w3.org/2000/svg\" height=\"24px\"viewBox=\"0 0 24 24\"\n",
              "       width=\"24px\">\n",
              "    <path d=\"M0 0h24v24H0V0z\" fill=\"none\"/>\n",
              "    <path d=\"M18.56 5.44l.94 2.06.94-2.06 2.06-.94-2.06-.94-.94-2.06-.94 2.06-2.06.94zm-11 1L8.5 8.5l.94-2.06 2.06-.94-2.06-.94L8.5 2.5l-.94 2.06-2.06.94zm10 10l.94 2.06.94-2.06 2.06-.94-2.06-.94-.94-2.06-.94 2.06-2.06.94z\"/><path d=\"M17.41 7.96l-1.37-1.37c-.4-.4-.92-.59-1.43-.59-.52 0-1.04.2-1.43.59L10.3 9.45l-7.72 7.72c-.78.78-.78 2.05 0 2.83L4 21.41c.39.39.9.59 1.41.59.51 0 1.02-.2 1.41-.59l7.78-7.78 2.81-2.81c.8-.78.8-2.07 0-2.86zM5.41 20L4 18.59l7.72-7.72 1.47 1.35L5.41 20z\"/>\n",
              "  </svg>\n",
              "      </button>\n",
              "      \n",
              "  <style>\n",
              "    .colab-df-container {\n",
              "      display:flex;\n",
              "      flex-wrap:wrap;\n",
              "      gap: 12px;\n",
              "    }\n",
              "\n",
              "    .colab-df-convert {\n",
              "      background-color: #E8F0FE;\n",
              "      border: none;\n",
              "      border-radius: 50%;\n",
              "      cursor: pointer;\n",
              "      display: none;\n",
              "      fill: #1967D2;\n",
              "      height: 32px;\n",
              "      padding: 0 0 0 0;\n",
              "      width: 32px;\n",
              "    }\n",
              "\n",
              "    .colab-df-convert:hover {\n",
              "      background-color: #E2EBFA;\n",
              "      box-shadow: 0px 1px 2px rgba(60, 64, 67, 0.3), 0px 1px 3px 1px rgba(60, 64, 67, 0.15);\n",
              "      fill: #174EA6;\n",
              "    }\n",
              "\n",
              "    [theme=dark] .colab-df-convert {\n",
              "      background-color: #3B4455;\n",
              "      fill: #D2E3FC;\n",
              "    }\n",
              "\n",
              "    [theme=dark] .colab-df-convert:hover {\n",
              "      background-color: #434B5C;\n",
              "      box-shadow: 0px 1px 3px 1px rgba(0, 0, 0, 0.15);\n",
              "      filter: drop-shadow(0px 1px 2px rgba(0, 0, 0, 0.3));\n",
              "      fill: #FFFFFF;\n",
              "    }\n",
              "  </style>\n",
              "\n",
              "      <script>\n",
              "        const buttonEl =\n",
              "          document.querySelector('#df-661d895b-9f9b-402a-b222-f8a773f0389c button.colab-df-convert');\n",
              "        buttonEl.style.display =\n",
              "          google.colab.kernel.accessAllowed ? 'block' : 'none';\n",
              "\n",
              "        async function convertToInteractive(key) {\n",
              "          const element = document.querySelector('#df-661d895b-9f9b-402a-b222-f8a773f0389c');\n",
              "          const dataTable =\n",
              "            await google.colab.kernel.invokeFunction('convertToInteractive',\n",
              "                                                     [key], {});\n",
              "          if (!dataTable) return;\n",
              "\n",
              "          const docLinkHtml = 'Like what you see? Visit the ' +\n",
              "            '<a target=\"_blank\" href=https://colab.research.google.com/notebooks/data_table.ipynb>data table notebook</a>'\n",
              "            + ' to learn more about interactive tables.';\n",
              "          element.innerHTML = '';\n",
              "          dataTable['output_type'] = 'display_data';\n",
              "          await google.colab.output.renderOutput(dataTable, element);\n",
              "          const docLink = document.createElement('div');\n",
              "          docLink.innerHTML = docLinkHtml;\n",
              "          element.appendChild(docLink);\n",
              "        }\n",
              "      </script>\n",
              "    </div>\n",
              "  </div>\n",
              "  "
            ]
          },
          "metadata": {},
          "execution_count": 18
        }
      ]
    },
    {
      "cell_type": "code",
      "source": [
        "alldistances = kmeans.fit_transform(data.drop('Clusters',axis=1))\n",
        "search = 0\n",
        "Clusters_array = []\n",
        "for i in range(len(data['Clusters'])):\n",
        "  if (data['Clusters'][i+1] == search):\n",
        "    Clusters_array.append(alldistances[i][search])\n",
        "print(round(sum(Clusters_array)/len(Clusters_array), 3))"
      ],
      "metadata": {
        "colab": {
          "base_uri": "https://localhost:8080/"
        },
        "id": "iZMnal6-xNFj",
        "outputId": "d8cb7912-b4db-4d2d-b789-0b5300e89998"
      },
      "execution_count": null,
      "outputs": [
        {
          "output_type": "stream",
          "name": "stdout",
          "text": [
            "3.763\n"
          ]
        }
      ]
    },
    {
      "cell_type": "markdown",
      "source": [
        "#Упражнение 10"
      ],
      "metadata": {
        "id": "acwEodjwS7xr"
      }
    },
    {
      "cell_type": "code",
      "source": [
        "#Этот код нужен, чтобы получить папки с фотографиями, сначала запустить его\n",
        "\n",
        "import requests\n",
        "#сюда вставить ссылки на архивы, первая - ссылка на гугл папку\n",
        "url_1 = \"https://drive.google.com/open?id=1HLJErnl0u_yiyrXykyq279DVuYMlQldW\"\n",
        "url_2 = \"https://courses.openedu.ru/assets/courseware/v1/c8f3e99cf88c0643abc7ab918beded9c/asset-v1:ITMOUniversity+MLDATAN+spring_2022_ITMO_bac+type@asset+block/test_task.zip\"\n",
        "\n",
        "url_1 = \"https://drive.google.com/u/0/uc?id=\" + url_1[url_1.find(\"id=\") + 3:] + \"&export=download\"\n",
        "f = open(\"train_task10.zip\", \"wb\")\n",
        "f.write(requests.get(url_1).content)\n",
        "f.close()\n",
        "\n",
        "f = open(\"test_task10.zip\", \"wb\")\n",
        "f.write(requests.get(url_2).content)\n",
        "f.close()\n",
        "from os import system\n",
        "ret = system(\"unzip train_task10.zip -d train_task10\")\n",
        "ret = system(\"unzip test_task10.zip -d test_task10\")\n",
        "ret = system(\"rm test_task10.zip\")\n",
        "ret = system(\"rm train_task10.zip\")"
      ],
      "metadata": {
        "id": "PvMKZLeXzVLy"
      },
      "execution_count": null,
      "outputs": []
    },
    {
      "cell_type": "code",
      "source": [
        "from sklearn.linear_model import LogisticRegression\n",
        "from sklearn.ensemble import RandomForestClassifier\n",
        "from sklearn.tree import DecisionTreeClassifier\n",
        "from sklearn.ensemble import StackingClassifier\n",
        "from sklearn.ensemble import BaggingClassifier\n",
        "from sklearn.svm import LinearSVC\n",
        "from imutils import paths\n",
        "import numpy as np\n",
        "import cv2\n",
        "import os\n",
        "\n",
        "def extract_histogram(image, bins=(8, 8, 8)):\n",
        "    hist = cv2.calcHist([image], [0, 1, 2], None, bins, [0, 256, 0, 256, 0, 256])\n",
        "    cv2.normalize(hist, hist)\n",
        "    return hist.flatten()\n",
        "\n",
        "imagePaths = sorted(list(paths.list_images('train_task10/train')))\n",
        "X = []\n",
        "labels = []\n",
        "\n",
        "for imagePath in imagePaths:\n",
        "\timage = cv2.imread(imagePath, 1)\n",
        "\tlabel = imagePath.split(os.path.sep)[-1].split(\".\")[0]\n",
        "\thist = extract_histogram(image)\n",
        "\tX.append(hist)\n",
        "\tlabels.append(label)\n",
        "Y = [1 if x == \"cat\" else 0 for x in labels]\n",
        "\n",
        "#тут вставить свои значения\n",
        "svm = LinearSVC(random_state = 242, C = 1.21).fit(X, Y)\n",
        "bagging = BaggingClassifier(DecisionTreeClassifier(criterion='entropy', min_samples_leaf = 10, max_leaf_nodes = 20, random_state = 242), n_estimators = 19, random_state = 242).fit(X, Y)\n",
        "forest = RandomForestClassifier(n_estimators = 19, criterion = 'entropy', min_samples_leaf = 10, max_leaf_nodes = 20, random_state = 242).fit(X, Y)\n",
        "\n",
        "\n",
        "#сюда своё значение random_state\n",
        "lr = LogisticRegression(solver = 'lbfgs', random_state = 242)\n",
        "\n",
        "base_estimators = [('SVM', svm), ('Bagging DT', bagging), ('DecisionForest', forest)]\n",
        "# здесь  изменить CV\n",
        "sclf = StackingClassifier(estimators = base_estimators, final_estimator = lr, cv = 2).fit(X, Y)\n",
        "print(round(sclf.score(X, Y),2))\n",
        "\n",
        "#сюда названия картинок\n",
        "test_image_names = [\"cat.1025.jpg\", \"dog.1013.jpg\", \"dog.1030.jpg\", \"dog.1041.jpg\"]\n",
        "dog = 0\n",
        "cat = 1\n",
        "for imName in test_image_names:\n",
        "\tcurrentImage = cv2.imread(\"test_task10/test/\" + imName)\n",
        "\thist = extract_histogram(currentImage).reshape(1, -1)\n",
        "\tprediction = sclf.predict(hist)\n",
        "\tprint(round(sclf.predict_proba(hist)[0][cat], 3))\n"
      ],
      "metadata": {
        "colab": {
          "base_uri": "https://localhost:8080/"
        },
        "id": "MpCi9YOpzLwQ",
        "outputId": "c33c5427-e716-4739-d73d-0f372b5a2cd4"
      },
      "execution_count": null,
      "outputs": [
        {
          "output_type": "stream",
          "name": "stdout",
          "text": [
            "0.85\n",
            "0.681\n",
            "0.101\n",
            "0.366\n",
            "0.363\n"
          ]
        }
      ]
    },
    {
      "cell_type": "code",
      "source": [
        "ret = system(\"rm -rf test_task10\")\n",
        "ret = system(\"rm -rf train_task10\")"
      ],
      "metadata": {
        "id": "Cr9c8nIc6Sr5"
      },
      "execution_count": null,
      "outputs": []
    },
    {
      "cell_type": "markdown",
      "source": [
        "#Упражнение 11"
      ],
      "metadata": {
        "id": "qpvkUinEpTBh"
      }
    },
    {
      "cell_type": "markdown",
      "source": [
        "Тут нет решалки, нужно считать вручную. Формула следующая:  https://drive.google.com/file/d/1VBxRkiUqr8R57RPnf6655k27OZRu43lY/view?usp=sharing   \n",
        "(Стр. 36 11 главы методички)"
      ],
      "metadata": {
        "id": "mXwiWY7TpYDC"
      }
    },
    {
      "cell_type": "markdown",
      "source": [
        "По ней просто подставляешь и считаешь. Приведу пример со своими входными данными: https://drive.google.com/file/d/12U8T0vNGlLMhip3KQEFHKk906TlEfraG/view?usp=sharing"
      ],
      "metadata": {
        "id": "0On3-S-GtFvh"
      }
    },
    {
      "cell_type": "markdown",
      "source": [
        "v = 0.4 * ( 0.3*(2 + 0.8x) + 0.7*(3 + 0.8y)) + 0.6 * (1 * (1 + 0.8y))   \n",
        "x = 3 + 0.8v   \n",
        "y = 0.5 * (-3 + 0.8v) + 0.5 * (0.2 * (1 + 0.8y) + 0.8 * (6 + 0.8z))   \n",
        "z = 0.5 * (0.6 * (5 + 0.8v) + 0.4 * (-3 + 0.8x)) + 0.5 * (-3 + 0.8y)   \n",
        "\n",
        "где v = V(s1), x = V(s2), y = V(s3), z = V(s4)    \n",
        "Далее просто при помощи wolframalpha или photomath решаем систему уравнений"
      ],
      "metadata": {
        "id": "aHMKEuXvwltf"
      }
    },
    {
      "cell_type": "markdown",
      "source": [
        "#Упражнение 12"
      ],
      "metadata": {
        "id": "uRpgC_VRS8pW"
      }
    },
    {
      "cell_type": "markdown",
      "source": [
        "Вводим свои epsilon, gamma и  random_seed и выставляем количетсво игр 10000    \n",
        "Сначала закомментим все строчки, которые помечены как SARSA, и раскомментим строки, которые помечены как Q    \n",
        "Затем, соответсвенно, делаем обратное действие, не забыв поменять число игр"
      ],
      "metadata": {
        "id": "imItibLVbbeT"
      }
    },
    {
      "cell_type": "code",
      "source": [
        "pip install pygame"
      ],
      "metadata": {
        "colab": {
          "base_uri": "https://localhost:8080/"
        },
        "id": "Kln1pBwyJIV0",
        "outputId": "6c65be03-9124-4426-9a95-d32bee3c26d1"
      },
      "execution_count": null,
      "outputs": [
        {
          "output_type": "stream",
          "name": "stdout",
          "text": [
            "Looking in indexes: https://pypi.org/simple, https://us-python.pkg.dev/colab-wheels/public/simple/\n",
            "Requirement already satisfied: pygame in /usr/local/lib/python3.7/dist-packages (2.1.2)\n"
          ]
        }
      ]
    },
    {
      "cell_type": "code",
      "source": [
        "total_episodes = 40000  #сюда количество игр\n",
        "#сюда данные из начала условия\n",
        "epsilon = 0.05\n",
        "gamma = 0.9\n",
        "random_seed = 10\n",
        "\n",
        "\n",
        "time_delay = 1\n",
        "lr_rate = 0.9\n",
        "import gym\n",
        "import numpy as np\n",
        "import time\n",
        "\n",
        "\n",
        "def generate_random_map(size, p, sd):\n",
        "    \"\"\"Generates a random valid map (one that has a path from start to goal)\n",
        "    :param size: size of each side of the grid\n",
        "    :param p: probability that a tile is frozen\n",
        "    \"\"\"\n",
        "    valid = False\n",
        "    np.random.seed(sd)\n",
        "\n",
        "    def is_valid(res):\n",
        "        frontier, discovered = [], set()\n",
        "        frontier.append((0,0))\n",
        "        while frontier:\n",
        "            r, c = frontier.pop()\n",
        "            if not (r,c) in discovered:\n",
        "                discovered.add((r,c))\n",
        "                directions = [(1, 0), (0, 1), (-1, 0), (0, -1)]\n",
        "                for x, y in directions:\n",
        "                    r_new = r + x\n",
        "                    c_new = c + y\n",
        "                    if r_new < 0 or r_new >= size or c_new < 0 or c_new >= size:\n",
        "                        continue\n",
        "                    if res[r_new][c_new] == 'G':\n",
        "                        return True\n",
        "                    if (res[r_new][c_new] not in '#H'):\n",
        "                        frontier.append((r_new, c_new))\n",
        "        return False\n",
        "\n",
        "    while not valid:\n",
        "        p = min(1, p)\n",
        "        res = np.random.choice(['F', 'H'], (size, size), p=[p, 1-p])\n",
        "        res[0][0] = 'S'\n",
        "        res[-1][-1] = 'G'\n",
        "        valid = is_valid(res)\n",
        "    return [\"\".join(x) for x in res]\n",
        "\n",
        "\n",
        "random_map = generate_random_map(size=6, p=0.8, sd = random_seed)\n",
        "maze = random_map\n",
        "env = gym.make(\"FrozenLake-v1\", desc=random_map, is_slippery=False)\n",
        "print(\"Ваша карта\")\n",
        "import os\n",
        "os.environ[\"SDL_VIDEODRIVER\"] = \"dummy\"\n",
        "env.reset()\n",
        "env.render()\n",
        "\n",
        "def choose_action(state):\n",
        "    action=0\n",
        "    if np.random.uniform(0, 1) < epsilon:\n",
        "        action = np.random.randint(0,env.action_space.n)\n",
        "    else:\n",
        "        action = np.random.choice(np.array(np.argwhere(Q[state, :] == np.amax(Q[state, :])).flatten().tolist()))\n",
        "    return action\n",
        "\n",
        "\n",
        "\n",
        "def learn(state, state2, reward, action, action2, done):\n",
        "    if done:\n",
        "      Q[state, action] +=  lr_rate * (reward - Q[state, action])\n",
        "    else:\n",
        "      #Q[state, action] += lr_rate * (reward + gamma * np.max(Q[state2, :]) - Q[state, action])   #Q\n",
        "      Q[state, action] += lr_rate * (reward + gamma * Q[state2, action2] - Q[state, action])      #SARSA\n",
        "\n",
        "\n",
        "from tqdm import tqdm\n",
        "wins_arr = []\n",
        "np.random.seed(random_seed)\n",
        "\n",
        "max_steps = 100\n",
        "n_states, n_actions = env.observation_space.n, env.action_space.n\n",
        "Q = np.zeros((n_states, n_actions))\n",
        "min_episode = 0\n",
        "for episode in tqdm(range(total_episodes)):\n",
        "    state = env.reset()\n",
        "    t = 0\n",
        "    action = choose_action(state)    #SARSA\n",
        "    while t < max_steps:\n",
        "        if episode > 5 and wins_arr[episode-5] == 1 and wins_arr[episode-4] == 1 and wins_arr[episode-3] == 1 and wins_arr[episode-2] == 1 and wins_arr[episode-1] == 1 and min_episode ==0:\n",
        "          min_episode = episode\n",
        "        \n",
        "        t += 1\n",
        "        #action, action2 = choose_action(state), 0  # Q\n",
        "        state2, reward, done, info = env.step(action)\n",
        "        action2 = choose_action(state2)  #SARSA\n",
        "        if t == max_steps:\n",
        "          done = True  \n",
        "        learn(state, state2, reward, action, action2, done)\n",
        "        state = state2\n",
        "        action = action2    #SARSA\n",
        "        if done and reward == 1:\n",
        "          wins_arr.append(1)\n",
        "          break\n",
        "        if done:\n",
        "          wins_arr.append(0)\n",
        "          break\n",
        "print('')\n",
        "print(\"Количество побед в серии из \", total_episodes, \" игр: \", np.sum(wins_arr))\n",
        "print(\"Пять побед подряд впервые было одержано в игре \",min_episode)\n"
      ],
      "metadata": {
        "colab": {
          "base_uri": "https://localhost:8080/"
        },
        "id": "PUKfGO2U7E15",
        "outputId": "d6ff1bf1-4791-4284-ce5d-38ecae083e12"
      },
      "execution_count": null,
      "outputs": [
        {
          "output_type": "stream",
          "name": "stdout",
          "text": [
            "Ваша карта\n"
          ]
        },
        {
          "output_type": "stream",
          "name": "stderr",
          "text": [
            "100%|██████████| 40000/40000 [00:44<00:00, 903.94it/s]"
          ]
        },
        {
          "output_type": "stream",
          "name": "stdout",
          "text": [
            "\n",
            "Количество побед в серии из  40000  игр:  38474\n",
            "Пять побед подряд впервые было одержано в игре  118\n"
          ]
        },
        {
          "output_type": "stream",
          "name": "stderr",
          "text": [
            "\n"
          ]
        }
      ]
    },
    {
      "cell_type": "code",
      "source": [
        "#ЭТОТ БЛОК НЕ МЕНЯТЬ ВООБЩЕ\n",
        "from IPython.display import clear_output\n",
        "import time\n",
        "\n",
        "def choose_action_one_game(state):\n",
        "    action = np.random.choice(np.array(np.argwhere(Q[state, :] == np.amax(Q[state, :])).flatten().tolist()))\n",
        "    return action\n",
        "states=[]\n",
        "t = 0\n",
        "state = env.reset()\n",
        "\n",
        "while(t<1000):\n",
        "  env.render()\n",
        "  time.sleep(time_delay)\n",
        "  clear_output(wait=True)\n",
        "  action = choose_action_one_game(state)  \n",
        "  state2, reward, done, info = env.step(action)  \n",
        "  states.append(state)\n",
        "  state = state2\n",
        "  t += 1\n",
        "  if done and reward == 1:\n",
        "    wn=1\n",
        "  if done:\n",
        "    break\n",
        "if wn == 1:\n",
        "  print(\"!!!Победа!!!\")\n",
        "import matplotlib.pyplot as plt\n",
        "\n",
        "def make_maze_pic(maze):\n",
        "  maze_pic=[]\n",
        "  for i in range(len(maze)):\n",
        "    row = []\n",
        "    for j in range(len(maze[i])):\n",
        "      if maze[i][j] == 'S':\n",
        "        row.append(0)\n",
        "      if maze[i][j] == 'F':\n",
        "        row.append(0)\n",
        "      if maze[i][j] == 'H':\n",
        "        row.append(1)\n",
        "      if maze[i][j] == 'G':\n",
        "        row.append(0)\n",
        "    maze_pic.append(row)\n",
        "  maze_pic = np.array(maze_pic)\n",
        "  return maze_pic\n",
        "  \n",
        "\n",
        "#Make maze fit to plot\n",
        "maze_pic = make_maze_pic(maze)\n",
        "nrows, ncols = maze_pic.shape\n",
        "\n",
        "#Arrays of picture elements\n",
        "rw = np.remainder(states,nrows)\n",
        "cl = np.floor_divide(states,nrows)\n",
        "rw = np.append(rw, [nrows-1])\n",
        "cl = np.append(cl,[ncols-1])\n",
        "\n",
        "#Picture plotting\n",
        "fig, ax1 = plt.subplots(1, 1, tight_layout=True)\n",
        "ax1.clear()\n",
        "ax1.set_xticks(np.arange(0.5, nrows, step=1))\n",
        "ax1.set_xticklabels([])\n",
        "ax1.set_yticks(np.arange(0.5, ncols, step=1))\n",
        "ax1.set_yticklabels([])\n",
        "ax1.grid(True)\n",
        "ax1.plot([0],[0], \"gs\", markersize=40)  # start is a big green square\n",
        "ax1.text(0, 0.2,\"Start\", ha=\"center\", va=\"center\", color=\"white\", fontsize=12) #Start text\n",
        "ax1.plot([nrows-1],[ncols-1], \"rs\", markersize=40)  # exit is a big red square\n",
        "ax1.text(nrows-1, ncols-1+0.2,\"Finish\", ha=\"center\", va=\"center\", color=\"white\", fontsize=12) #Exit text\n",
        "ax1.plot(rw,cl, ls = '-', color = 'blue') #Blue lines path\n",
        "ax1.plot(rw,cl, \"bo\")  # Blue dots visited cells\n",
        "ax1.imshow(maze_pic, cmap=\"binary\")\n",
        "\n"
      ],
      "metadata": {
        "colab": {
          "base_uri": "https://localhost:8080/",
          "height": 334
        },
        "id": "QfIgYQG87kZ5",
        "outputId": "d1cfc2a9-452a-418f-e7a0-a9afb1b438f1"
      },
      "execution_count": null,
      "outputs": [
        {
          "output_type": "stream",
          "name": "stdout",
          "text": [
            "!!!Победа!!!\n"
          ]
        },
        {
          "output_type": "execute_result",
          "data": {
            "text/plain": [
              "<matplotlib.image.AxesImage at 0x7f165d24f710>"
            ]
          },
          "metadata": {},
          "execution_count": 30
        },
        {
          "output_type": "display_data",
          "data": {
            "text/plain": [
              "<Figure size 432x288 with 1 Axes>"
            ],
            "image/png": "[encoded data removed]"
          },
          "metadata": {
            "needs_background": "light"
          }
        }
      ]
    },
    {
      "cell_type": "markdown",
      "source": [
        "#Итоговый зачет"
      ],
      "metadata": {
        "id": "qqZfwImX-g7n"
      }
    },
    {
      "cell_type": "markdown",
      "source": [
        "Итоговый зачет в отдельном коллабе. На прокторе нужно написать такой же код, не забывая менять данные на свои    \n",
        "\n",
        "https://colab.research.google.com/drive/1msiY-OKLk01J3bOpVZ5BOBDXk1TMFj3u?usp=sharing"
      ],
      "metadata": {
        "id": "1OvEI7GL-kyB"
      }
    },
    {
      "cell_type": "markdown",
      "source": [
        "---\n",
        "#by Azatjonov Akbarjon\n",
        "\n",
        "\n",
        "\n"
      ],
      "metadata": {
        "id": "aG4h5o4WxecA"
      }
    }
  ]
}